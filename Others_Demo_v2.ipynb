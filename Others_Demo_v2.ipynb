{
 "cells": [
  {
   "cell_type": "code",
   "execution_count": 1,
   "metadata": {},
   "outputs": [],
   "source": [
    "# import tensorflow as tf\n",
    "import tensorflow as tf\n",
    "import tensorflow_datasets as tfds\n",
    "from tensorflow import keras"
   ]
  },
  {
   "cell_type": "code",
   "execution_count": 2,
   "metadata": {},
   "outputs": [
    {
     "name": "stdout",
     "output_type": "stream",
     "text": [
      "True\n"
     ]
    }
   ],
   "source": [
    "print(tf.test.is_built_with_cuda())"
   ]
  },
  {
   "cell_type": "code",
   "execution_count": 3,
   "metadata": {},
   "outputs": [],
   "source": [
    "def prepare_tf_data(Train_size = 32, Test_size = 16, img_size = 224, random_ratio = 0.1):\n",
    "    (train_ds, test_ds), ds_info = tfds.load(\n",
    "        'cifar10',\n",
    "        split=['train', 'test'],\n",
    "        as_supervised=True,\n",
    "        with_info=True\n",
    "    )\n",
    "    \n",
    "    def preprocess(image, label):\n",
    "        image = tf.cast(image, tf.float32) / 255.0\n",
    "        image = tf.image.resize(image, (img_size, img_size))\n",
    "        return image, label\n",
    "\n",
    "    def augment(image, label):\n",
    "        image = tf.image.random_flip_left_right(image)\n",
    "        image = tf.image.random_brightness(image, random_ratio)\n",
    "        image = tf.image.random_contrast(image, 1 - random_ratio, 1 + random_ratio)\n",
    "        return image, label\n",
    "    \n",
    "    AUTOTUNE = tf.data.AUTOTUNE\n",
    "    \n",
    "    train_ds = (train_ds\n",
    "                .map(preprocess, num_parallel_calls=AUTOTUNE)\n",
    "                .map(augment, num_parallel_calls=AUTOTUNE)\n",
    "                .shuffle(10000)\n",
    "                .batch(Train_size)\n",
    "                .prefetch(AUTOTUNE))\n",
    "    \n",
    "    test_ds = (test_ds\n",
    "               .map(preprocess, num_parallel_calls=AUTOTUNE)\n",
    "               .batch(Test_size)\n",
    "               .prefetch(AUTOTUNE))\n",
    "    \n",
    "    return train_ds, test_ds"
   ]
  },
  {
   "cell_type": "code",
   "execution_count": 4,
   "metadata": {},
   "outputs": [],
   "source": [
    "train_ds, test_ds = prepare_tf_data(Train_size = 128, Test_size = 64,img_size=32)"
   ]
  },
  {
   "cell_type": "code",
   "execution_count": 5,
   "metadata": {},
   "outputs": [],
   "source": [
    "from models.wideresnet import WideResNet\n",
    "import tensorflow_addons as tfa"
   ]
  },
  {
   "cell_type": "code",
   "execution_count": null,
   "metadata": {},
   "outputs": [
    {
     "name": "stdout",
     "output_type": "stream",
     "text": [
      "Epoch 1/10\n",
      "391/391 [==============================] - ETA: 0s - loss: 1.7490 - accuracy: 0.3660"
     ]
    },
    {
     "name": "stderr",
     "output_type": "stream",
     "text": [
      "WARNING:absl:Found untraced functions such as _jit_compiled_convolution_op, conv2d_20_layer_call_fn, conv2d_20_layer_call_and_return_conditional_losses, _jit_compiled_convolution_op, dropout_6_layer_call_fn while saving (showing 5 of 55). These functions will not be directly callable after loading.\n"
     ]
    },
    {
     "name": "stdout",
     "output_type": "stream",
     "text": [
      "INFO:tensorflow:Assets written to: wide_res_cifar10_best\\assets\n"
     ]
    },
    {
     "name": "stderr",
     "output_type": "stream",
     "text": [
      "INFO:tensorflow:Assets written to: wide_res_cifar10_best\\assets\n"
     ]
    },
    {
     "name": "stdout",
     "output_type": "stream",
     "text": [
      "391/391 [==============================] - 2659s 7s/step - loss: 1.7490 - accuracy: 0.3660 - val_loss: 1.7500 - val_accuracy: 0.3961\n",
      "Epoch 2/10\n",
      "391/391 [==============================] - ETA: 0s - loss: 1.2126 - accuracy: 0.5631"
     ]
    },
    {
     "name": "stderr",
     "output_type": "stream",
     "text": [
      "WARNING:absl:Found untraced functions such as _jit_compiled_convolution_op, conv2d_20_layer_call_fn, conv2d_20_layer_call_and_return_conditional_losses, _jit_compiled_convolution_op, dropout_6_layer_call_fn while saving (showing 5 of 55). These functions will not be directly callable after loading.\n"
     ]
    },
    {
     "name": "stdout",
     "output_type": "stream",
     "text": [
      "INFO:tensorflow:Assets written to: wide_res_cifar10_best\\assets\n"
     ]
    },
    {
     "name": "stderr",
     "output_type": "stream",
     "text": [
      "INFO:tensorflow:Assets written to: wide_res_cifar10_best\\assets\n"
     ]
    },
    {
     "name": "stdout",
     "output_type": "stream",
     "text": [
      "391/391 [==============================] - 2490s 6s/step - loss: 1.2126 - accuracy: 0.5631 - val_loss: 1.9046 - val_accuracy: 0.4599\n",
      "Epoch 3/10\n",
      "391/391 [==============================] - ETA: 0s - loss: 0.9425 - accuracy: 0.6638"
     ]
    },
    {
     "name": "stderr",
     "output_type": "stream",
     "text": [
      "WARNING:absl:Found untraced functions such as _jit_compiled_convolution_op, conv2d_20_layer_call_fn, conv2d_20_layer_call_and_return_conditional_losses, _jit_compiled_convolution_op, dropout_6_layer_call_fn while saving (showing 5 of 55). These functions will not be directly callable after loading.\n"
     ]
    },
    {
     "name": "stdout",
     "output_type": "stream",
     "text": [
      "INFO:tensorflow:Assets written to: wide_res_cifar10_best\\assets\n"
     ]
    },
    {
     "name": "stderr",
     "output_type": "stream",
     "text": [
      "INFO:tensorflow:Assets written to: wide_res_cifar10_best\\assets\n"
     ]
    },
    {
     "name": "stdout",
     "output_type": "stream",
     "text": [
      "391/391 [==============================] - 2889s 7s/step - loss: 0.9425 - accuracy: 0.6638 - val_loss: 1.0759 - val_accuracy: 0.6278\n",
      "Epoch 4/10\n",
      "391/391 [==============================] - ETA: 0s - loss: 0.7784 - accuracy: 0.7252"
     ]
    },
    {
     "name": "stderr",
     "output_type": "stream",
     "text": [
      "WARNING:absl:Found untraced functions such as _jit_compiled_convolution_op, conv2d_20_layer_call_fn, conv2d_20_layer_call_and_return_conditional_losses, _jit_compiled_convolution_op, dropout_6_layer_call_fn while saving (showing 5 of 55). These functions will not be directly callable after loading.\n"
     ]
    },
    {
     "name": "stdout",
     "output_type": "stream",
     "text": [
      "INFO:tensorflow:Assets written to: wide_res_cifar10_best\\assets\n"
     ]
    },
    {
     "name": "stderr",
     "output_type": "stream",
     "text": [
      "INFO:tensorflow:Assets written to: wide_res_cifar10_best\\assets\n"
     ]
    },
    {
     "name": "stdout",
     "output_type": "stream",
     "text": [
      "391/391 [==============================] - 2640s 7s/step - loss: 0.7784 - accuracy: 0.7252 - val_loss: 1.0004 - val_accuracy: 0.6511\n",
      "Epoch 5/10\n",
      "391/391 [==============================] - ETA: 0s - loss: 0.6796 - accuracy: 0.7603"
     ]
    },
    {
     "name": "stderr",
     "output_type": "stream",
     "text": [
      "WARNING:absl:Found untraced functions such as _jit_compiled_convolution_op, conv2d_20_layer_call_fn, conv2d_20_layer_call_and_return_conditional_losses, _jit_compiled_convolution_op, dropout_6_layer_call_fn while saving (showing 5 of 55). These functions will not be directly callable after loading.\n"
     ]
    },
    {
     "name": "stdout",
     "output_type": "stream",
     "text": [
      "INFO:tensorflow:Assets written to: wide_res_cifar10_best\\assets\n"
     ]
    },
    {
     "name": "stderr",
     "output_type": "stream",
     "text": [
      "INFO:tensorflow:Assets written to: wide_res_cifar10_best\\assets\n"
     ]
    },
    {
     "name": "stdout",
     "output_type": "stream",
     "text": [
      "391/391 [==============================] - 2712s 7s/step - loss: 0.6796 - accuracy: 0.7603 - val_loss: 0.8431 - val_accuracy: 0.7077\n",
      "Epoch 6/10\n",
      "391/391 [==============================] - 2906s 7s/step - loss: 0.5602 - accuracy: 0.8026 - val_loss: 0.8757 - val_accuracy: 0.7013\n",
      "Epoch 7/10\n",
      "391/391 [==============================] - ETA: 0s - loss: 0.4898 - accuracy: 0.8286"
     ]
    },
    {
     "name": "stderr",
     "output_type": "stream",
     "text": [
      "WARNING:absl:Found untraced functions such as _jit_compiled_convolution_op, conv2d_20_layer_call_fn, conv2d_20_layer_call_and_return_conditional_losses, _jit_compiled_convolution_op, dropout_6_layer_call_fn while saving (showing 5 of 55). These functions will not be directly callable after loading.\n"
     ]
    },
    {
     "name": "stdout",
     "output_type": "stream",
     "text": [
      "INFO:tensorflow:Assets written to: wide_res_cifar10_best\\assets\n"
     ]
    },
    {
     "name": "stderr",
     "output_type": "stream",
     "text": [
      "INFO:tensorflow:Assets written to: wide_res_cifar10_best\\assets\n"
     ]
    },
    {
     "name": "stdout",
     "output_type": "stream",
     "text": [
      "391/391 [==============================] - 2724s 7s/step - loss: 0.4898 - accuracy: 0.8286 - val_loss: 0.8702 - val_accuracy: 0.7100\n",
      "Epoch 8/10\n",
      "391/391 [==============================] - ETA: 0s - loss: 0.4282 - accuracy: 0.8495"
     ]
    },
    {
     "name": "stderr",
     "output_type": "stream",
     "text": [
      "WARNING:absl:Found untraced functions such as _jit_compiled_convolution_op, conv2d_20_layer_call_fn, conv2d_20_layer_call_and_return_conditional_losses, _jit_compiled_convolution_op, dropout_6_layer_call_fn while saving (showing 5 of 55). These functions will not be directly callable after loading.\n"
     ]
    },
    {
     "name": "stdout",
     "output_type": "stream",
     "text": [
      "INFO:tensorflow:Assets written to: wide_res_cifar10_best\\assets\n"
     ]
    },
    {
     "name": "stderr",
     "output_type": "stream",
     "text": [
      "INFO:tensorflow:Assets written to: wide_res_cifar10_best\\assets\n"
     ]
    },
    {
     "name": "stdout",
     "output_type": "stream",
     "text": [
      "391/391 [==============================] - 2950s 8s/step - loss: 0.4282 - accuracy: 0.8495 - val_loss: 0.6794 - val_accuracy: 0.7616\n",
      "Epoch 9/10\n",
      "391/391 [==============================] - ETA: 0s - loss: 0.3561 - accuracy: 0.8760"
     ]
    },
    {
     "name": "stderr",
     "output_type": "stream",
     "text": [
      "WARNING:absl:Found untraced functions such as _jit_compiled_convolution_op, conv2d_20_layer_call_fn, conv2d_20_layer_call_and_return_conditional_losses, _jit_compiled_convolution_op, dropout_6_layer_call_fn while saving (showing 5 of 55). These functions will not be directly callable after loading.\n"
     ]
    },
    {
     "name": "stdout",
     "output_type": "stream",
     "text": [
      "INFO:tensorflow:Assets written to: wide_res_cifar10_best\\assets\n"
     ]
    },
    {
     "name": "stderr",
     "output_type": "stream",
     "text": [
      "INFO:tensorflow:Assets written to: wide_res_cifar10_best\\assets\n"
     ]
    },
    {
     "name": "stdout",
     "output_type": "stream",
     "text": [
      "391/391 [==============================] - 2781s 7s/step - loss: 0.3561 - accuracy: 0.8760 - val_loss: 0.5640 - val_accuracy: 0.8119\n",
      "Epoch 10/10\n",
      "391/391 [==============================] - ETA: 0s - loss: 0.3291 - accuracy: 0.8837"
     ]
    },
    {
     "name": "stderr",
     "output_type": "stream",
     "text": [
      "WARNING:absl:Found untraced functions such as _jit_compiled_convolution_op, conv2d_20_layer_call_fn, conv2d_20_layer_call_and_return_conditional_losses, _jit_compiled_convolution_op, dropout_6_layer_call_fn while saving (showing 5 of 55). These functions will not be directly callable after loading.\n"
     ]
    },
    {
     "name": "stdout",
     "output_type": "stream",
     "text": [
      "INFO:tensorflow:Assets written to: wide_res_cifar10_best\\assets\n"
     ]
    },
    {
     "name": "stderr",
     "output_type": "stream",
     "text": [
      "INFO:tensorflow:Assets written to: wide_res_cifar10_best\\assets\n"
     ]
    },
    {
     "name": "stdout",
     "output_type": "stream",
     "text": [
      "391/391 [==============================] - 3032s 8s/step - loss: 0.3291 - accuracy: 0.8837 - val_loss: 0.5425 - val_accuracy: 0.8150\n"
     ]
    }
   ],
   "source": [
    "wide_res = WideResNet(num_classes=10)\n",
    "# wide_res = tf.keras.models.load_model('./wide_res_cifar10_best')\n",
    "\n",
    "initial_learning_rate = 1e-2\n",
    "\n",
    "decay_steps = 1000\n",
    "lr_schedule_wide_res = tf.keras.optimizers.schedules.ExponentialDecay(\n",
    "    initial_learning_rate=initial_learning_rate,\n",
    "    decay_steps=decay_steps,\n",
    "    decay_rate=0.75,  \n",
    "    staircase=True   \n",
    ")\n",
    "\n",
    "\n",
    "# decay_steps = 1000\n",
    "# lr_schedule_wide_res = tf.keras.optimizers.schedules.CosineDecay(\n",
    "#     initial_learning_rate=initial_learning_rate,\n",
    "#     decay_steps=decay_steps\n",
    "# )\n",
    "\n",
    "wide_res.compile(\n",
    "    optimizer = tfa.optimizers.AdamW(\n",
    "    learning_rate=lr_schedule_wide_res,\n",
    "    weight_decay=0.0001\n",
    "),\n",
    "    loss=tf.keras.losses.SparseCategoricalCrossentropy(from_logits=True),\n",
    "    metrics=['accuracy']\n",
    ")\n",
    "\n",
    "callbacks_wide_res = [\n",
    "    tf.keras.callbacks.ModelCheckpoint(\n",
    "        'wide_res_cifar10_best',  \n",
    "        save_best_only=True,\n",
    "        monitor='val_accuracy'\n",
    "    ),\n",
    "    tf.keras.callbacks.EarlyStopping(\n",
    "        monitor='val_accuracy',\n",
    "        patience=5,\n",
    "        restore_best_weights=True\n",
    "    ),\n",
    "    tf.keras.callbacks.TensorBoard(log_dir='./logs/wide_res_cifar10')\n",
    "]\n",
    "\n",
    "# tensorboard_callback = tf.keras.callbacks.TensorBoard(log_dir=\"./logs\")\n",
    "# model.fit(..., callbacks=[tensorboard_callback])\n",
    "\n",
    "history_wide_res = wide_res.fit(\n",
    "    train_ds,\n",
    "    validation_data=test_ds,\n",
    "    epochs=10,\n",
    "    callbacks=callbacks_wide_res\n",
    ")"
   ]
  },
  {
   "cell_type": "code",
   "execution_count": null,
   "metadata": {},
   "outputs": [
    {
     "name": "stdout",
     "output_type": "stream",
     "text": [
      "Epoch 1/5\n",
      "391/391 [==============================] - ETA: 0s - loss: 0.2149 - accuracy: 0.9261"
     ]
    },
    {
     "name": "stderr",
     "output_type": "stream",
     "text": [
      "WARNING:absl:Found untraced functions such as conv2d_19_layer_call_fn, conv2d_19_layer_call_and_return_conditional_losses, _jit_compiled_convolution_op, dense_1_layer_call_fn, dense_1_layer_call_and_return_conditional_losses while saving (showing 5 of 59). These functions will not be directly callable after loading.\n"
     ]
    },
    {
     "name": "stdout",
     "output_type": "stream",
     "text": [
      "INFO:tensorflow:Assets written to: wide_res_cifar10_best\\assets\n"
     ]
    },
    {
     "name": "stderr",
     "output_type": "stream",
     "text": [
      "INFO:tensorflow:Assets written to: wide_res_cifar10_best\\assets\n"
     ]
    },
    {
     "name": "stdout",
     "output_type": "stream",
     "text": [
      "391/391 [==============================] - 3285s 8s/step - loss: 0.2149 - accuracy: 0.9261 - val_loss: 0.3705 - val_accuracy: 0.8713\n",
      "Epoch 2/5\n",
      "391/391 [==============================] - ETA: 0s - loss: 0.1776 - accuracy: 0.9392"
     ]
    },
    {
     "name": "stderr",
     "output_type": "stream",
     "text": [
      "WARNING:absl:Found untraced functions such as conv2d_19_layer_call_fn, conv2d_19_layer_call_and_return_conditional_losses, _jit_compiled_convolution_op, dense_1_layer_call_fn, dense_1_layer_call_and_return_conditional_losses while saving (showing 5 of 59). These functions will not be directly callable after loading.\n"
     ]
    },
    {
     "name": "stdout",
     "output_type": "stream",
     "text": [
      "INFO:tensorflow:Assets written to: wide_res_cifar10_best\\assets\n"
     ]
    },
    {
     "name": "stderr",
     "output_type": "stream",
     "text": [
      "INFO:tensorflow:Assets written to: wide_res_cifar10_best\\assets\n"
     ]
    },
    {
     "name": "stdout",
     "output_type": "stream",
     "text": [
      "391/391 [==============================] - 2984s 8s/step - loss: 0.1776 - accuracy: 0.9392 - val_loss: 0.3466 - val_accuracy: 0.8811\n",
      "Epoch 3/5\n",
      "391/391 [==============================] - ETA: 0s - loss: 0.1582 - accuracy: 0.9459 "
     ]
    },
    {
     "name": "stderr",
     "output_type": "stream",
     "text": [
      "WARNING:absl:Found untraced functions such as conv2d_19_layer_call_fn, conv2d_19_layer_call_and_return_conditional_losses, _jit_compiled_convolution_op, dense_1_layer_call_fn, dense_1_layer_call_and_return_conditional_losses while saving (showing 5 of 59). These functions will not be directly callable after loading.\n"
     ]
    },
    {
     "name": "stdout",
     "output_type": "stream",
     "text": [
      "INFO:tensorflow:Assets written to: wide_res_cifar10_best\\assets\n"
     ]
    },
    {
     "name": "stderr",
     "output_type": "stream",
     "text": [
      "INFO:tensorflow:Assets written to: wide_res_cifar10_best\\assets\n"
     ]
    },
    {
     "name": "stdout",
     "output_type": "stream",
     "text": [
      "391/391 [==============================] - 4248s 11s/step - loss: 0.1582 - accuracy: 0.9459 - val_loss: 0.3563 - val_accuracy: 0.8812\n",
      "Epoch 4/5\n",
      "391/391 [==============================] - ETA: 0s - loss: 0.1353 - accuracy: 0.9550"
     ]
    },
    {
     "name": "stderr",
     "output_type": "stream",
     "text": [
      "WARNING:absl:Found untraced functions such as conv2d_19_layer_call_fn, conv2d_19_layer_call_and_return_conditional_losses, _jit_compiled_convolution_op, dense_1_layer_call_fn, dense_1_layer_call_and_return_conditional_losses while saving (showing 5 of 59). These functions will not be directly callable after loading.\n"
     ]
    },
    {
     "name": "stdout",
     "output_type": "stream",
     "text": [
      "INFO:tensorflow:Assets written to: wide_res_cifar10_best\\assets\n"
     ]
    },
    {
     "name": "stderr",
     "output_type": "stream",
     "text": [
      "INFO:tensorflow:Assets written to: wide_res_cifar10_best\\assets\n"
     ]
    },
    {
     "name": "stdout",
     "output_type": "stream",
     "text": [
      "391/391 [==============================] - 2961s 8s/step - loss: 0.1353 - accuracy: 0.9550 - val_loss: 0.3624 - val_accuracy: 0.8814\n",
      "Epoch 5/5\n",
      "391/391 [==============================] - ETA: 0s - loss: 0.1193 - accuracy: 0.9602"
     ]
    },
    {
     "name": "stderr",
     "output_type": "stream",
     "text": [
      "WARNING:absl:Found untraced functions such as conv2d_19_layer_call_fn, conv2d_19_layer_call_and_return_conditional_losses, _jit_compiled_convolution_op, dense_1_layer_call_fn, dense_1_layer_call_and_return_conditional_losses while saving (showing 5 of 59). These functions will not be directly callable after loading.\n"
     ]
    },
    {
     "name": "stdout",
     "output_type": "stream",
     "text": [
      "INFO:tensorflow:Assets written to: wide_res_cifar10_best\\assets\n"
     ]
    },
    {
     "name": "stderr",
     "output_type": "stream",
     "text": [
      "INFO:tensorflow:Assets written to: wide_res_cifar10_best\\assets\n"
     ]
    },
    {
     "name": "stdout",
     "output_type": "stream",
     "text": [
      "391/391 [==============================] - 3553s 9s/step - loss: 0.1193 - accuracy: 0.9602 - val_loss: 0.3627 - val_accuracy: 0.8819\n"
     ]
    }
   ],
   "source": [
    "# Continue Training\n",
    "import time\n",
    "wide_res = tf.keras.models.load_model('./wide_res_cifar10_best')\n",
    "\n",
    "initial_learning_rate = 1e-3\n",
    "\n",
    "decay_steps = 1000\n",
    "lr_schedule_wide_res = tf.keras.optimizers.schedules.ExponentialDecay(\n",
    "    initial_learning_rate=initial_learning_rate,\n",
    "    decay_steps=decay_steps,\n",
    "    decay_rate=0.75,  \n",
    "    staircase=True   \n",
    ")\n",
    "\n",
    "wide_res.compile(\n",
    "    optimizer = tfa.optimizers.AdamW(\n",
    "    learning_rate=lr_schedule_wide_res,\n",
    "    weight_decay=0.0001\n",
    "),\n",
    "    loss=tf.keras.losses.SparseCategoricalCrossentropy(from_logits=True),\n",
    "    metrics=['accuracy']\n",
    ")\n",
    "\n",
    "callbacks_wide_res = [\n",
    "    tf.keras.callbacks.ModelCheckpoint(\n",
    "        'wide_res_cifar10_best',  \n",
    "        save_best_only=True,\n",
    "        monitor='val_accuracy'\n",
    "    ),\n",
    "    tf.keras.callbacks.EarlyStopping(\n",
    "        monitor='val_accuracy',\n",
    "        patience=5,\n",
    "        restore_best_weights=True\n",
    "    ),\n",
    "    log_dir = f\"./logs/wide_res_cifar10/{time.strftime('%Y%m%d-%H%M%S')}\"\n",
    "    # tf.keras.callbacks.TensorBoard(log_dir='./logs/wide_res_cifar10')\n",
    "    tf.keras.callbacks.TensorBoard(log_dir=log_dir)\n",
    "]\n",
    "\n",
    "\n",
    "history_wide_res = wide_res.fit(\n",
    "    train_ds,\n",
    "    validation_data=test_ds,\n",
    "    epochs=5,\n",
    "    callbacks=callbacks_wide_res\n",
    ")"
   ]
  },
  {
   "cell_type": "code",
   "execution_count": 14,
   "metadata": {},
   "outputs": [],
   "source": [
    "from models.mobilenet import MobileNet"
   ]
  },
  {
   "cell_type": "code",
   "execution_count": null,
   "metadata": {},
   "outputs": [
    {
     "name": "stdout",
     "output_type": "stream",
     "text": [
      "Epoch 1/20\n",
      "391/391 [==============================] - ETA: 0s - loss: 1.4539 - accuracy: 0.4762"
     ]
    },
    {
     "name": "stderr",
     "output_type": "stream",
     "text": [
      "WARNING:absl:Found untraced functions such as _jit_compiled_convolution_op, depthwise_conv2d_6_layer_call_fn, depthwise_conv2d_6_layer_call_and_return_conditional_losses, _jit_compiled_convolution_op, conv2d_46_layer_call_fn while saving (showing 5 of 37). These functions will not be directly callable after loading.\n"
     ]
    },
    {
     "name": "stdout",
     "output_type": "stream",
     "text": [
      "INFO:tensorflow:Assets written to: ./checkpoints\\mobile_cifar10_best\\assets\n"
     ]
    },
    {
     "name": "stderr",
     "output_type": "stream",
     "text": [
      "INFO:tensorflow:Assets written to: ./checkpoints\\mobile_cifar10_best\\assets\n"
     ]
    },
    {
     "name": "stdout",
     "output_type": "stream",
     "text": [
      "391/391 [==============================] - 75s 188ms/step - loss: 1.4539 - accuracy: 0.4762 - val_loss: 2.3092 - val_accuracy: 0.3835\n",
      "Epoch 2/20\n",
      "391/391 [==============================] - ETA: 0s - loss: 1.0188 - accuracy: 0.6373"
     ]
    },
    {
     "name": "stderr",
     "output_type": "stream",
     "text": [
      "WARNING:absl:Found untraced functions such as _jit_compiled_convolution_op, depthwise_conv2d_6_layer_call_fn, depthwise_conv2d_6_layer_call_and_return_conditional_losses, _jit_compiled_convolution_op, conv2d_46_layer_call_fn while saving (showing 5 of 37). These functions will not be directly callable after loading.\n"
     ]
    },
    {
     "name": "stdout",
     "output_type": "stream",
     "text": [
      "INFO:tensorflow:Assets written to: ./checkpoints\\mobile_cifar10_best\\assets\n"
     ]
    },
    {
     "name": "stderr",
     "output_type": "stream",
     "text": [
      "INFO:tensorflow:Assets written to: ./checkpoints\\mobile_cifar10_best\\assets\n"
     ]
    },
    {
     "name": "stdout",
     "output_type": "stream",
     "text": [
      "391/391 [==============================] - 76s 194ms/step - loss: 1.0188 - accuracy: 0.6373 - val_loss: 1.1065 - val_accuracy: 0.6315\n",
      "Epoch 3/20\n",
      "391/391 [==============================] - ETA: 0s - loss: 0.8242 - accuracy: 0.7104"
     ]
    },
    {
     "name": "stderr",
     "output_type": "stream",
     "text": [
      "WARNING:absl:Found untraced functions such as _jit_compiled_convolution_op, depthwise_conv2d_6_layer_call_fn, depthwise_conv2d_6_layer_call_and_return_conditional_losses, _jit_compiled_convolution_op, conv2d_46_layer_call_fn while saving (showing 5 of 37). These functions will not be directly callable after loading.\n"
     ]
    },
    {
     "name": "stdout",
     "output_type": "stream",
     "text": [
      "INFO:tensorflow:Assets written to: ./checkpoints\\mobile_cifar10_best\\assets\n"
     ]
    },
    {
     "name": "stderr",
     "output_type": "stream",
     "text": [
      "INFO:tensorflow:Assets written to: ./checkpoints\\mobile_cifar10_best\\assets\n"
     ]
    },
    {
     "name": "stdout",
     "output_type": "stream",
     "text": [
      "391/391 [==============================] - 87s 223ms/step - loss: 0.8242 - accuracy: 0.7104 - val_loss: 0.9580 - val_accuracy: 0.6696\n",
      "Epoch 4/20\n",
      "391/391 [==============================] - ETA: 0s - loss: 0.7089 - accuracy: 0.7509"
     ]
    },
    {
     "name": "stderr",
     "output_type": "stream",
     "text": [
      "WARNING:absl:Found untraced functions such as _jit_compiled_convolution_op, depthwise_conv2d_6_layer_call_fn, depthwise_conv2d_6_layer_call_and_return_conditional_losses, _jit_compiled_convolution_op, conv2d_46_layer_call_fn while saving (showing 5 of 37). These functions will not be directly callable after loading.\n"
     ]
    },
    {
     "name": "stdout",
     "output_type": "stream",
     "text": [
      "INFO:tensorflow:Assets written to: ./checkpoints\\mobile_cifar10_best\\assets\n"
     ]
    },
    {
     "name": "stderr",
     "output_type": "stream",
     "text": [
      "INFO:tensorflow:Assets written to: ./checkpoints\\mobile_cifar10_best\\assets\n"
     ]
    },
    {
     "name": "stdout",
     "output_type": "stream",
     "text": [
      "391/391 [==============================] - 88s 226ms/step - loss: 0.7089 - accuracy: 0.7509 - val_loss: 0.9069 - val_accuracy: 0.6889\n",
      "Epoch 5/20\n",
      "391/391 [==============================] - ETA: 0s - loss: 0.6498 - accuracy: 0.7734"
     ]
    },
    {
     "name": "stderr",
     "output_type": "stream",
     "text": [
      "WARNING:absl:Found untraced functions such as _jit_compiled_convolution_op, depthwise_conv2d_6_layer_call_fn, depthwise_conv2d_6_layer_call_and_return_conditional_losses, _jit_compiled_convolution_op, conv2d_46_layer_call_fn while saving (showing 5 of 37). These functions will not be directly callable after loading.\n"
     ]
    },
    {
     "name": "stdout",
     "output_type": "stream",
     "text": [
      "INFO:tensorflow:Assets written to: ./checkpoints\\mobile_cifar10_best\\assets\n"
     ]
    },
    {
     "name": "stderr",
     "output_type": "stream",
     "text": [
      "INFO:tensorflow:Assets written to: ./checkpoints\\mobile_cifar10_best\\assets\n"
     ]
    },
    {
     "name": "stdout",
     "output_type": "stream",
     "text": [
      "391/391 [==============================] - 116s 297ms/step - loss: 0.6498 - accuracy: 0.7734 - val_loss: 0.8037 - val_accuracy: 0.7239\n",
      "Epoch 6/20\n",
      "391/391 [==============================] - ETA: 0s - loss: 0.5729 - accuracy: 0.8007"
     ]
    },
    {
     "name": "stderr",
     "output_type": "stream",
     "text": [
      "WARNING:absl:Found untraced functions such as _jit_compiled_convolution_op, depthwise_conv2d_6_layer_call_fn, depthwise_conv2d_6_layer_call_and_return_conditional_losses, _jit_compiled_convolution_op, conv2d_46_layer_call_fn while saving (showing 5 of 37). These functions will not be directly callable after loading.\n"
     ]
    },
    {
     "name": "stdout",
     "output_type": "stream",
     "text": [
      "INFO:tensorflow:Assets written to: ./checkpoints\\mobile_cifar10_best\\assets\n"
     ]
    },
    {
     "name": "stderr",
     "output_type": "stream",
     "text": [
      "INFO:tensorflow:Assets written to: ./checkpoints\\mobile_cifar10_best\\assets\n"
     ]
    },
    {
     "name": "stdout",
     "output_type": "stream",
     "text": [
      "391/391 [==============================] - 198s 502ms/step - loss: 0.5729 - accuracy: 0.8007 - val_loss: 0.8145 - val_accuracy: 0.7305\n",
      "Epoch 7/20\n",
      "391/391 [==============================] - ETA: 0s - loss: 0.5314 - accuracy: 0.8137"
     ]
    },
    {
     "name": "stderr",
     "output_type": "stream",
     "text": [
      "WARNING:absl:Found untraced functions such as _jit_compiled_convolution_op, depthwise_conv2d_6_layer_call_fn, depthwise_conv2d_6_layer_call_and_return_conditional_losses, _jit_compiled_convolution_op, conv2d_46_layer_call_fn while saving (showing 5 of 37). These functions will not be directly callable after loading.\n"
     ]
    },
    {
     "name": "stdout",
     "output_type": "stream",
     "text": [
      "INFO:tensorflow:Assets written to: ./checkpoints\\mobile_cifar10_best\\assets\n"
     ]
    },
    {
     "name": "stderr",
     "output_type": "stream",
     "text": [
      "INFO:tensorflow:Assets written to: ./checkpoints\\mobile_cifar10_best\\assets\n"
     ]
    },
    {
     "name": "stdout",
     "output_type": "stream",
     "text": [
      "391/391 [==============================] - 185s 471ms/step - loss: 0.5314 - accuracy: 0.8137 - val_loss: 0.7378 - val_accuracy: 0.7473\n",
      "Epoch 8/20\n",
      "391/391 [==============================] - 186s 474ms/step - loss: 0.4957 - accuracy: 0.8258 - val_loss: 0.8572 - val_accuracy: 0.7183\n",
      "Epoch 9/20\n",
      "391/391 [==============================] - ETA: 0s - loss: 0.4317 - accuracy: 0.8499"
     ]
    },
    {
     "name": "stderr",
     "output_type": "stream",
     "text": [
      "WARNING:absl:Found untraced functions such as _jit_compiled_convolution_op, depthwise_conv2d_6_layer_call_fn, depthwise_conv2d_6_layer_call_and_return_conditional_losses, _jit_compiled_convolution_op, conv2d_46_layer_call_fn while saving (showing 5 of 37). These functions will not be directly callable after loading.\n"
     ]
    },
    {
     "name": "stdout",
     "output_type": "stream",
     "text": [
      "INFO:tensorflow:Assets written to: ./checkpoints\\mobile_cifar10_best\\assets\n"
     ]
    },
    {
     "name": "stderr",
     "output_type": "stream",
     "text": [
      "INFO:tensorflow:Assets written to: ./checkpoints\\mobile_cifar10_best\\assets\n"
     ]
    },
    {
     "name": "stdout",
     "output_type": "stream",
     "text": [
      "391/391 [==============================] - 204s 520ms/step - loss: 0.4317 - accuracy: 0.8499 - val_loss: 0.6816 - val_accuracy: 0.7695\n",
      "Epoch 10/20\n",
      "391/391 [==============================] - 189s 480ms/step - loss: 0.4082 - accuracy: 0.8567 - val_loss: 0.7313 - val_accuracy: 0.7625\n",
      "Epoch 11/20\n",
      "391/391 [==============================] - ETA: 0s - loss: 0.3618 - accuracy: 0.8735"
     ]
    },
    {
     "name": "stderr",
     "output_type": "stream",
     "text": [
      "WARNING:absl:Found untraced functions such as _jit_compiled_convolution_op, depthwise_conv2d_6_layer_call_fn, depthwise_conv2d_6_layer_call_and_return_conditional_losses, _jit_compiled_convolution_op, conv2d_46_layer_call_fn while saving (showing 5 of 37). These functions will not be directly callable after loading.\n"
     ]
    },
    {
     "name": "stdout",
     "output_type": "stream",
     "text": [
      "INFO:tensorflow:Assets written to: ./checkpoints\\mobile_cifar10_best\\assets\n"
     ]
    },
    {
     "name": "stderr",
     "output_type": "stream",
     "text": [
      "INFO:tensorflow:Assets written to: ./checkpoints\\mobile_cifar10_best\\assets\n"
     ]
    },
    {
     "name": "stdout",
     "output_type": "stream",
     "text": [
      "391/391 [==============================] - 195s 495ms/step - loss: 0.3618 - accuracy: 0.8735 - val_loss: 0.6712 - val_accuracy: 0.7793\n",
      "Epoch 12/20\n",
      "391/391 [==============================] - ETA: 0s - loss: 0.3268 - accuracy: 0.8858"
     ]
    },
    {
     "name": "stderr",
     "output_type": "stream",
     "text": [
      "WARNING:absl:Found untraced functions such as _jit_compiled_convolution_op, depthwise_conv2d_6_layer_call_fn, depthwise_conv2d_6_layer_call_and_return_conditional_losses, _jit_compiled_convolution_op, conv2d_46_layer_call_fn while saving (showing 5 of 37). These functions will not be directly callable after loading.\n"
     ]
    },
    {
     "name": "stdout",
     "output_type": "stream",
     "text": [
      "INFO:tensorflow:Assets written to: ./checkpoints\\mobile_cifar10_best\\assets\n"
     ]
    },
    {
     "name": "stderr",
     "output_type": "stream",
     "text": [
      "INFO:tensorflow:Assets written to: ./checkpoints\\mobile_cifar10_best\\assets\n"
     ]
    },
    {
     "name": "stdout",
     "output_type": "stream",
     "text": [
      "391/391 [==============================] - 184s 468ms/step - loss: 0.3268 - accuracy: 0.8858 - val_loss: 0.6840 - val_accuracy: 0.7828\n",
      "Epoch 13/20\n",
      "391/391 [==============================] - ETA: 0s - loss: 0.3035 - accuracy: 0.8932"
     ]
    },
    {
     "name": "stderr",
     "output_type": "stream",
     "text": [
      "WARNING:absl:Found untraced functions such as _jit_compiled_convolution_op, depthwise_conv2d_6_layer_call_fn, depthwise_conv2d_6_layer_call_and_return_conditional_losses, _jit_compiled_convolution_op, conv2d_46_layer_call_fn while saving (showing 5 of 37). These functions will not be directly callable after loading.\n"
     ]
    },
    {
     "name": "stdout",
     "output_type": "stream",
     "text": [
      "INFO:tensorflow:Assets written to: ./checkpoints\\mobile_cifar10_best\\assets\n"
     ]
    },
    {
     "name": "stderr",
     "output_type": "stream",
     "text": [
      "INFO:tensorflow:Assets written to: ./checkpoints\\mobile_cifar10_best\\assets\n"
     ]
    },
    {
     "name": "stdout",
     "output_type": "stream",
     "text": [
      "391/391 [==============================] - 199s 506ms/step - loss: 0.3035 - accuracy: 0.8932 - val_loss: 0.5984 - val_accuracy: 0.8019\n",
      "Epoch 14/20\n",
      "391/391 [==============================] - 159s 405ms/step - loss: 0.2503 - accuracy: 0.9138 - val_loss: 0.6571 - val_accuracy: 0.7942\n",
      "Epoch 15/20\n",
      "391/391 [==============================] - 187s 477ms/step - loss: 0.2335 - accuracy: 0.9173 - val_loss: 0.6854 - val_accuracy: 0.7864\n",
      "Epoch 16/20\n",
      "391/391 [==============================] - ETA: 0s - loss: 0.2082 - accuracy: 0.9284"
     ]
    },
    {
     "name": "stderr",
     "output_type": "stream",
     "text": [
      "WARNING:absl:Found untraced functions such as _jit_compiled_convolution_op, depthwise_conv2d_6_layer_call_fn, depthwise_conv2d_6_layer_call_and_return_conditional_losses, _jit_compiled_convolution_op, conv2d_46_layer_call_fn while saving (showing 5 of 37). These functions will not be directly callable after loading.\n"
     ]
    },
    {
     "name": "stdout",
     "output_type": "stream",
     "text": [
      "INFO:tensorflow:Assets written to: ./checkpoints\\mobile_cifar10_best\\assets\n"
     ]
    },
    {
     "name": "stderr",
     "output_type": "stream",
     "text": [
      "INFO:tensorflow:Assets written to: ./checkpoints\\mobile_cifar10_best\\assets\n"
     ]
    },
    {
     "name": "stdout",
     "output_type": "stream",
     "text": [
      "391/391 [==============================] - 204s 519ms/step - loss: 0.2082 - accuracy: 0.9284 - val_loss: 0.6128 - val_accuracy: 0.8117\n",
      "Epoch 17/20\n",
      "391/391 [==============================] - 194s 491ms/step - loss: 0.1729 - accuracy: 0.9411 - val_loss: 0.6624 - val_accuracy: 0.8039\n",
      "Epoch 18/20\n",
      "391/391 [==============================] - 187s 476ms/step - loss: 0.1601 - accuracy: 0.9465 - val_loss: 0.6630 - val_accuracy: 0.8057\n",
      "Epoch 19/20\n",
      "391/391 [==============================] - ETA: 0s - loss: 0.1302 - accuracy: 0.9572"
     ]
    },
    {
     "name": "stderr",
     "output_type": "stream",
     "text": [
      "WARNING:absl:Found untraced functions such as _jit_compiled_convolution_op, depthwise_conv2d_6_layer_call_fn, depthwise_conv2d_6_layer_call_and_return_conditional_losses, _jit_compiled_convolution_op, conv2d_46_layer_call_fn while saving (showing 5 of 37). These functions will not be directly callable after loading.\n"
     ]
    },
    {
     "name": "stdout",
     "output_type": "stream",
     "text": [
      "INFO:tensorflow:Assets written to: ./checkpoints\\mobile_cifar10_best\\assets\n"
     ]
    },
    {
     "name": "stderr",
     "output_type": "stream",
     "text": [
      "INFO:tensorflow:Assets written to: ./checkpoints\\mobile_cifar10_best\\assets\n"
     ]
    },
    {
     "name": "stdout",
     "output_type": "stream",
     "text": [
      "391/391 [==============================] - 211s 537ms/step - loss: 0.1302 - accuracy: 0.9572 - val_loss: 0.6421 - val_accuracy: 0.8173\n",
      "Epoch 20/20\n",
      "391/391 [==============================] - 190s 478ms/step - loss: 0.1169 - accuracy: 0.9612 - val_loss: 0.7016 - val_accuracy: 0.8021\n"
     ]
    }
   ],
   "source": [
    "# Continue Training\n",
    "import time\n",
    "mobile = MobileNet(num_classes=10)\n",
    "\n",
    "initial_learning_rate = 1e-2\n",
    "\n",
    "decay_steps = 1000\n",
    "lr_schedule_mobile = tf.keras.optimizers.schedules.ExponentialDecay(\n",
    "    initial_learning_rate=initial_learning_rate,\n",
    "    decay_steps=decay_steps,\n",
    "    decay_rate=0.75,  \n",
    "    staircase=True   \n",
    ")\n",
    "\n",
    "mobile.compile(\n",
    "    optimizer = tfa.optimizers.AdamW(\n",
    "    learning_rate=lr_schedule_mobile,\n",
    "    weight_decay=0.0001\n",
    "),\n",
    "    loss=tf.keras.losses.SparseCategoricalCrossentropy(from_logits=True),\n",
    "    metrics=['accuracy']\n",
    ")\n",
    "\n",
    "log_dir = f\"./logs/mobile_cifar10/{time.strftime('%Y%m%d-%H%M%S')}\"\n",
    "callbacks_mobile = [\n",
    "    tf.keras.callbacks.ModelCheckpoint(\n",
    "        './checkpoints/mobile_cifar10_best',  \n",
    "        save_best_only=True,\n",
    "        monitor='val_accuracy'\n",
    "    ),\n",
    "    tf.keras.callbacks.EarlyStopping(\n",
    "        monitor='val_accuracy',\n",
    "        patience=5,\n",
    "        restore_best_weights=True\n",
    "    ),\n",
    "    # tf.keras.callbacks.TensorBoard(log_dir='./logs/wide_res_cifar10')\n",
    "    tf.keras.callbacks.TensorBoard(log_dir=log_dir)\n",
    "]\n",
    "\n",
    "\n",
    "history_mobile = mobile.fit(\n",
    "    train_ds,\n",
    "    validation_data=test_ds,\n",
    "    epochs=20,\n",
    "    callbacks=callbacks_mobile\n",
    ")"
   ]
  },
  {
   "cell_type": "code",
   "execution_count": 17,
   "metadata": {},
   "outputs": [],
   "source": [
    "from models.squeezenet import SqueezeNet"
   ]
  },
  {
   "cell_type": "code",
   "execution_count": 27,
   "metadata": {},
   "outputs": [],
   "source": [
    "import tensorflow as tf\n",
    "from tensorflow.keras import layers, models\n",
    "\n",
    "def SqueezeNet(input_shape=(32, 32, 3), num_classes=10):\n",
    "    inputs = tf.keras.Input(input_shape)\n",
    "    \n",
    "    x = layers.Conv2D(64, 3, strides=1, padding='same', activation='relu')(inputs)\n",
    "    x = layers.MaxPooling2D(2, strides=2, padding='same')(x)\n",
    "\n",
    "    # Fire modules\n",
    "    def fire_module(x, squeeze_filters, expand_filters):\n",
    "        squeeze = layers.Conv2D(squeeze_filters, 1, activation='relu')(x)\n",
    "        expand1x1 = layers.Conv2D(expand_filters, 1, activation='relu')(squeeze)\n",
    "        expand3x3 = layers.Conv2D(expand_filters, 3, padding='same', activation='relu')(squeeze)\n",
    "        return layers.Concatenate()([expand1x1, expand3x3])\n",
    "\n",
    "    x = fire_module(x, 8, 32)\n",
    "    x = fire_module(x, 8, 32)\n",
    "    x = layers.MaxPooling2D(2, strides=2, padding='same')(x)  \n",
    "    x = fire_module(x, 16, 64)\n",
    "    x = fire_module(x, 16, 64)\n",
    "   \n",
    "    x = fire_module(x, 32, 128)\n",
    "    x = fire_module(x, 32, 128)\n",
    "    x = layers.GlobalAveragePooling2D()(x) \n",
    "    x = layers.Dense(num_classes)(x)\n",
    "    \n",
    "    return models.Model(inputs, x)\n",
    "\n",
    "# model = SqueezeNet(input_shape=(32, 32, 3), num_classes=10)\n",
    "# model.summary()\n"
   ]
  },
  {
   "cell_type": "code",
   "execution_count": null,
   "metadata": {},
   "outputs": [
    {
     "name": "stdout",
     "output_type": "stream",
     "text": [
      "Epoch 1/20\n",
      "391/391 [==============================] - ETA: 0s - loss: 1.9797 - accuracy: 0.2341"
     ]
    },
    {
     "name": "stderr",
     "output_type": "stream",
     "text": [
      "WARNING:absl:Found untraced functions such as _jit_compiled_convolution_op, _jit_compiled_convolution_op, _jit_compiled_convolution_op, _jit_compiled_convolution_op, _jit_compiled_convolution_op while saving (showing 5 of 19). These functions will not be directly callable after loading.\n"
     ]
    },
    {
     "name": "stdout",
     "output_type": "stream",
     "text": [
      "INFO:tensorflow:Assets written to: ./checkpoints\\sq_cifar10_best\\assets\n"
     ]
    },
    {
     "name": "stderr",
     "output_type": "stream",
     "text": [
      "INFO:tensorflow:Assets written to: ./checkpoints\\sq_cifar10_best\\assets\n"
     ]
    },
    {
     "name": "stdout",
     "output_type": "stream",
     "text": [
      "391/391 [==============================] - 204s 519ms/step - loss: 1.9797 - accuracy: 0.2341 - val_loss: 1.7551 - val_accuracy: 0.3258\n",
      "Epoch 2/20\n",
      "391/391 [==============================] - ETA: 0s - loss: 1.6808 - accuracy: 0.3675"
     ]
    },
    {
     "name": "stderr",
     "output_type": "stream",
     "text": [
      "WARNING:absl:Found untraced functions such as _jit_compiled_convolution_op, _jit_compiled_convolution_op, _jit_compiled_convolution_op, _jit_compiled_convolution_op, _jit_compiled_convolution_op while saving (showing 5 of 19). These functions will not be directly callable after loading.\n"
     ]
    },
    {
     "name": "stdout",
     "output_type": "stream",
     "text": [
      "INFO:tensorflow:Assets written to: ./checkpoints\\sq_cifar10_best\\assets\n"
     ]
    },
    {
     "name": "stderr",
     "output_type": "stream",
     "text": [
      "INFO:tensorflow:Assets written to: ./checkpoints\\sq_cifar10_best\\assets\n"
     ]
    },
    {
     "name": "stdout",
     "output_type": "stream",
     "text": [
      "391/391 [==============================] - 145s 370ms/step - loss: 1.6808 - accuracy: 0.3675 - val_loss: 1.5198 - val_accuracy: 0.4297\n",
      "Epoch 3/20\n",
      "391/391 [==============================] - ETA: 0s - loss: 1.5365 - accuracy: 0.4275"
     ]
    },
    {
     "name": "stderr",
     "output_type": "stream",
     "text": [
      "WARNING:absl:Found untraced functions such as _jit_compiled_convolution_op, _jit_compiled_convolution_op, _jit_compiled_convolution_op, _jit_compiled_convolution_op, _jit_compiled_convolution_op while saving (showing 5 of 19). These functions will not be directly callable after loading.\n"
     ]
    },
    {
     "name": "stdout",
     "output_type": "stream",
     "text": [
      "INFO:tensorflow:Assets written to: ./checkpoints\\sq_cifar10_best\\assets\n"
     ]
    },
    {
     "name": "stderr",
     "output_type": "stream",
     "text": [
      "INFO:tensorflow:Assets written to: ./checkpoints\\sq_cifar10_best\\assets\n"
     ]
    },
    {
     "name": "stdout",
     "output_type": "stream",
     "text": [
      "391/391 [==============================] - 135s 346ms/step - loss: 1.5365 - accuracy: 0.4275 - val_loss: 1.4612 - val_accuracy: 0.4521\n",
      "Epoch 4/20\n",
      "391/391 [==============================] - ETA: 0s - loss: 1.4506 - accuracy: 0.4632"
     ]
    },
    {
     "name": "stderr",
     "output_type": "stream",
     "text": [
      "WARNING:absl:Found untraced functions such as _jit_compiled_convolution_op, _jit_compiled_convolution_op, _jit_compiled_convolution_op, _jit_compiled_convolution_op, _jit_compiled_convolution_op while saving (showing 5 of 19). These functions will not be directly callable after loading.\n"
     ]
    },
    {
     "name": "stdout",
     "output_type": "stream",
     "text": [
      "INFO:tensorflow:Assets written to: ./checkpoints\\sq_cifar10_best\\assets\n"
     ]
    },
    {
     "name": "stderr",
     "output_type": "stream",
     "text": [
      "INFO:tensorflow:Assets written to: ./checkpoints\\sq_cifar10_best\\assets\n"
     ]
    },
    {
     "name": "stdout",
     "output_type": "stream",
     "text": [
      "391/391 [==============================] - 134s 342ms/step - loss: 1.4506 - accuracy: 0.4632 - val_loss: 1.4192 - val_accuracy: 0.4669\n",
      "Epoch 5/20\n",
      "391/391 [==============================] - ETA: 0s - loss: 1.3971 - accuracy: 0.4800"
     ]
    },
    {
     "name": "stderr",
     "output_type": "stream",
     "text": [
      "WARNING:absl:Found untraced functions such as _jit_compiled_convolution_op, _jit_compiled_convolution_op, _jit_compiled_convolution_op, _jit_compiled_convolution_op, _jit_compiled_convolution_op while saving (showing 5 of 19). These functions will not be directly callable after loading.\n"
     ]
    },
    {
     "name": "stdout",
     "output_type": "stream",
     "text": [
      "INFO:tensorflow:Assets written to: ./checkpoints\\sq_cifar10_best\\assets\n"
     ]
    },
    {
     "name": "stderr",
     "output_type": "stream",
     "text": [
      "INFO:tensorflow:Assets written to: ./checkpoints\\sq_cifar10_best\\assets\n"
     ]
    },
    {
     "name": "stdout",
     "output_type": "stream",
     "text": [
      "391/391 [==============================] - 137s 351ms/step - loss: 1.3971 - accuracy: 0.4800 - val_loss: 1.3696 - val_accuracy: 0.5006\n",
      "Epoch 6/20\n",
      "391/391 [==============================] - ETA: 0s - loss: 1.3480 - accuracy: 0.5024"
     ]
    },
    {
     "name": "stderr",
     "output_type": "stream",
     "text": [
      "WARNING:absl:Found untraced functions such as _jit_compiled_convolution_op, _jit_compiled_convolution_op, _jit_compiled_convolution_op, _jit_compiled_convolution_op, _jit_compiled_convolution_op while saving (showing 5 of 19). These functions will not be directly callable after loading.\n"
     ]
    },
    {
     "name": "stdout",
     "output_type": "stream",
     "text": [
      "INFO:tensorflow:Assets written to: ./checkpoints\\sq_cifar10_best\\assets\n"
     ]
    },
    {
     "name": "stderr",
     "output_type": "stream",
     "text": [
      "INFO:tensorflow:Assets written to: ./checkpoints\\sq_cifar10_best\\assets\n"
     ]
    },
    {
     "name": "stdout",
     "output_type": "stream",
     "text": [
      "391/391 [==============================] - 135s 345ms/step - loss: 1.3480 - accuracy: 0.5024 - val_loss: 1.3257 - val_accuracy: 0.5064\n",
      "Epoch 7/20\n",
      "391/391 [==============================] - ETA: 0s - loss: 1.3139 - accuracy: 0.5169"
     ]
    },
    {
     "name": "stderr",
     "output_type": "stream",
     "text": [
      "WARNING:absl:Found untraced functions such as _jit_compiled_convolution_op, _jit_compiled_convolution_op, _jit_compiled_convolution_op, _jit_compiled_convolution_op, _jit_compiled_convolution_op while saving (showing 5 of 19). These functions will not be directly callable after loading.\n"
     ]
    },
    {
     "name": "stdout",
     "output_type": "stream",
     "text": [
      "INFO:tensorflow:Assets written to: ./checkpoints\\sq_cifar10_best\\assets\n"
     ]
    },
    {
     "name": "stderr",
     "output_type": "stream",
     "text": [
      "INFO:tensorflow:Assets written to: ./checkpoints\\sq_cifar10_best\\assets\n"
     ]
    },
    {
     "name": "stdout",
     "output_type": "stream",
     "text": [
      "391/391 [==============================] - 135s 346ms/step - loss: 1.3139 - accuracy: 0.5169 - val_loss: 1.2859 - val_accuracy: 0.5270\n",
      "Epoch 8/20\n",
      "391/391 [==============================] - ETA: 0s - loss: 1.2879 - accuracy: 0.5283"
     ]
    },
    {
     "name": "stderr",
     "output_type": "stream",
     "text": [
      "WARNING:absl:Found untraced functions such as _jit_compiled_convolution_op, _jit_compiled_convolution_op, _jit_compiled_convolution_op, _jit_compiled_convolution_op, _jit_compiled_convolution_op while saving (showing 5 of 19). These functions will not be directly callable after loading.\n"
     ]
    },
    {
     "name": "stdout",
     "output_type": "stream",
     "text": [
      "INFO:tensorflow:Assets written to: ./checkpoints\\sq_cifar10_best\\assets\n"
     ]
    },
    {
     "name": "stderr",
     "output_type": "stream",
     "text": [
      "INFO:tensorflow:Assets written to: ./checkpoints\\sq_cifar10_best\\assets\n"
     ]
    },
    {
     "name": "stdout",
     "output_type": "stream",
     "text": [
      "391/391 [==============================] - 136s 347ms/step - loss: 1.2879 - accuracy: 0.5283 - val_loss: 1.2694 - val_accuracy: 0.5289\n",
      "Epoch 9/20\n",
      "391/391 [==============================] - ETA: 0s - loss: 1.2585 - accuracy: 0.5366"
     ]
    },
    {
     "name": "stderr",
     "output_type": "stream",
     "text": [
      "WARNING:absl:Found untraced functions such as _jit_compiled_convolution_op, _jit_compiled_convolution_op, _jit_compiled_convolution_op, _jit_compiled_convolution_op, _jit_compiled_convolution_op while saving (showing 5 of 19). These functions will not be directly callable after loading.\n"
     ]
    },
    {
     "name": "stdout",
     "output_type": "stream",
     "text": [
      "INFO:tensorflow:Assets written to: ./checkpoints\\sq_cifar10_best\\assets\n"
     ]
    },
    {
     "name": "stderr",
     "output_type": "stream",
     "text": [
      "INFO:tensorflow:Assets written to: ./checkpoints\\sq_cifar10_best\\assets\n"
     ]
    },
    {
     "name": "stdout",
     "output_type": "stream",
     "text": [
      "391/391 [==============================] - 138s 353ms/step - loss: 1.2585 - accuracy: 0.5366 - val_loss: 1.2638 - val_accuracy: 0.5338\n",
      "Epoch 10/20\n",
      "391/391 [==============================] - ETA: 0s - loss: 1.2429 - accuracy: 0.5426"
     ]
    },
    {
     "name": "stderr",
     "output_type": "stream",
     "text": [
      "WARNING:absl:Found untraced functions such as _jit_compiled_convolution_op, _jit_compiled_convolution_op, _jit_compiled_convolution_op, _jit_compiled_convolution_op, _jit_compiled_convolution_op while saving (showing 5 of 19). These functions will not be directly callable after loading.\n"
     ]
    },
    {
     "name": "stdout",
     "output_type": "stream",
     "text": [
      "INFO:tensorflow:Assets written to: ./checkpoints\\sq_cifar10_best\\assets\n"
     ]
    },
    {
     "name": "stderr",
     "output_type": "stream",
     "text": [
      "INFO:tensorflow:Assets written to: ./checkpoints\\sq_cifar10_best\\assets\n"
     ]
    },
    {
     "name": "stdout",
     "output_type": "stream",
     "text": [
      "391/391 [==============================] - 134s 344ms/step - loss: 1.2429 - accuracy: 0.5426 - val_loss: 1.2364 - val_accuracy: 0.5412\n",
      "Epoch 11/20\n",
      "391/391 [==============================] - ETA: 0s - loss: 1.2327 - accuracy: 0.5475"
     ]
    },
    {
     "name": "stderr",
     "output_type": "stream",
     "text": [
      "WARNING:absl:Found untraced functions such as _jit_compiled_convolution_op, _jit_compiled_convolution_op, _jit_compiled_convolution_op, _jit_compiled_convolution_op, _jit_compiled_convolution_op while saving (showing 5 of 19). These functions will not be directly callable after loading.\n"
     ]
    },
    {
     "name": "stdout",
     "output_type": "stream",
     "text": [
      "INFO:tensorflow:Assets written to: ./checkpoints\\sq_cifar10_best\\assets\n"
     ]
    },
    {
     "name": "stderr",
     "output_type": "stream",
     "text": [
      "INFO:tensorflow:Assets written to: ./checkpoints\\sq_cifar10_best\\assets\n"
     ]
    },
    {
     "name": "stdout",
     "output_type": "stream",
     "text": [
      "391/391 [==============================] - 138s 352ms/step - loss: 1.2327 - accuracy: 0.5475 - val_loss: 1.2397 - val_accuracy: 0.5414\n",
      "Epoch 12/20\n",
      "391/391 [==============================] - ETA: 0s - loss: 1.2151 - accuracy: 0.5543"
     ]
    },
    {
     "name": "stderr",
     "output_type": "stream",
     "text": [
      "WARNING:absl:Found untraced functions such as _jit_compiled_convolution_op, _jit_compiled_convolution_op, _jit_compiled_convolution_op, _jit_compiled_convolution_op, _jit_compiled_convolution_op while saving (showing 5 of 19). These functions will not be directly callable after loading.\n"
     ]
    },
    {
     "name": "stdout",
     "output_type": "stream",
     "text": [
      "INFO:tensorflow:Assets written to: ./checkpoints\\sq_cifar10_best\\assets\n"
     ]
    },
    {
     "name": "stderr",
     "output_type": "stream",
     "text": [
      "INFO:tensorflow:Assets written to: ./checkpoints\\sq_cifar10_best\\assets\n"
     ]
    },
    {
     "name": "stdout",
     "output_type": "stream",
     "text": [
      "391/391 [==============================] - 136s 347ms/step - loss: 1.2151 - accuracy: 0.5543 - val_loss: 1.2135 - val_accuracy: 0.5523\n",
      "Epoch 13/20\n",
      "391/391 [==============================] - 133s 340ms/step - loss: 1.2040 - accuracy: 0.5576 - val_loss: 1.2381 - val_accuracy: 0.5484\n",
      "Epoch 14/20\n",
      "391/391 [==============================] - ETA: 0s - loss: 1.1934 - accuracy: 0.5629"
     ]
    },
    {
     "name": "stderr",
     "output_type": "stream",
     "text": [
      "WARNING:absl:Found untraced functions such as _jit_compiled_convolution_op, _jit_compiled_convolution_op, _jit_compiled_convolution_op, _jit_compiled_convolution_op, _jit_compiled_convolution_op while saving (showing 5 of 19). These functions will not be directly callable after loading.\n"
     ]
    },
    {
     "name": "stdout",
     "output_type": "stream",
     "text": [
      "INFO:tensorflow:Assets written to: ./checkpoints\\sq_cifar10_best\\assets\n"
     ]
    },
    {
     "name": "stderr",
     "output_type": "stream",
     "text": [
      "INFO:tensorflow:Assets written to: ./checkpoints\\sq_cifar10_best\\assets\n"
     ]
    },
    {
     "name": "stdout",
     "output_type": "stream",
     "text": [
      "391/391 [==============================] - 134s 342ms/step - loss: 1.1934 - accuracy: 0.5629 - val_loss: 1.2207 - val_accuracy: 0.5557\n",
      "Epoch 15/20\n",
      "391/391 [==============================] - 135s 344ms/step - loss: 1.1963 - accuracy: 0.5633 - val_loss: 1.2124 - val_accuracy: 0.5502\n",
      "Epoch 16/20\n",
      "391/391 [==============================] - ETA: 0s - loss: 1.1921 - accuracy: 0.5636"
     ]
    },
    {
     "name": "stderr",
     "output_type": "stream",
     "text": [
      "WARNING:absl:Found untraced functions such as _jit_compiled_convolution_op, _jit_compiled_convolution_op, _jit_compiled_convolution_op, _jit_compiled_convolution_op, _jit_compiled_convolution_op while saving (showing 5 of 19). These functions will not be directly callable after loading.\n"
     ]
    },
    {
     "name": "stdout",
     "output_type": "stream",
     "text": [
      "INFO:tensorflow:Assets written to: ./checkpoints\\sq_cifar10_best\\assets\n"
     ]
    },
    {
     "name": "stderr",
     "output_type": "stream",
     "text": [
      "INFO:tensorflow:Assets written to: ./checkpoints\\sq_cifar10_best\\assets\n"
     ]
    },
    {
     "name": "stdout",
     "output_type": "stream",
     "text": [
      "391/391 [==============================] - 134s 344ms/step - loss: 1.1921 - accuracy: 0.5636 - val_loss: 1.2014 - val_accuracy: 0.5586\n",
      "Epoch 17/20\n",
      "391/391 [==============================] - ETA: 0s - loss: 1.1932 - accuracy: 0.5654"
     ]
    },
    {
     "name": "stderr",
     "output_type": "stream",
     "text": [
      "WARNING:absl:Found untraced functions such as _jit_compiled_convolution_op, _jit_compiled_convolution_op, _jit_compiled_convolution_op, _jit_compiled_convolution_op, _jit_compiled_convolution_op while saving (showing 5 of 19). These functions will not be directly callable after loading.\n"
     ]
    },
    {
     "name": "stdout",
     "output_type": "stream",
     "text": [
      "INFO:tensorflow:Assets written to: ./checkpoints\\sq_cifar10_best\\assets\n"
     ]
    },
    {
     "name": "stderr",
     "output_type": "stream",
     "text": [
      "INFO:tensorflow:Assets written to: ./checkpoints\\sq_cifar10_best\\assets\n"
     ]
    },
    {
     "name": "stdout",
     "output_type": "stream",
     "text": [
      "391/391 [==============================] - 135s 346ms/step - loss: 1.1932 - accuracy: 0.5654 - val_loss: 1.1970 - val_accuracy: 0.5602\n",
      "Epoch 18/20\n",
      "391/391 [==============================] - ETA: 0s - loss: 1.1925 - accuracy: 0.5647"
     ]
    },
    {
     "name": "stderr",
     "output_type": "stream",
     "text": [
      "WARNING:absl:Found untraced functions such as _jit_compiled_convolution_op, _jit_compiled_convolution_op, _jit_compiled_convolution_op, _jit_compiled_convolution_op, _jit_compiled_convolution_op while saving (showing 5 of 19). These functions will not be directly callable after loading.\n"
     ]
    },
    {
     "name": "stdout",
     "output_type": "stream",
     "text": [
      "INFO:tensorflow:Assets written to: ./checkpoints\\sq_cifar10_best\\assets\n"
     ]
    },
    {
     "name": "stderr",
     "output_type": "stream",
     "text": [
      "INFO:tensorflow:Assets written to: ./checkpoints\\sq_cifar10_best\\assets\n"
     ]
    },
    {
     "name": "stdout",
     "output_type": "stream",
     "text": [
      "391/391 [==============================] - 134s 343ms/step - loss: 1.1925 - accuracy: 0.5647 - val_loss: 1.1906 - val_accuracy: 0.5667\n",
      "Epoch 19/20\n",
      "391/391 [==============================] - 134s 343ms/step - loss: 1.1980 - accuracy: 0.5642 - val_loss: 1.1857 - val_accuracy: 0.5638\n",
      "Epoch 20/20\n",
      "391/391 [==============================] - 135s 344ms/step - loss: 1.2038 - accuracy: 0.5616 - val_loss: 1.2019 - val_accuracy: 0.5607\n"
     ]
    }
   ],
   "source": [
    "# Continue Training\n",
    "import time\n",
    "sq = SqueezeNet(input_shape=(32, 32, 3),num_classes=10)\n",
    "\n",
    "initial_learning_rate = 1e-3\n",
    "\n",
    "decay_steps = 1000\n",
    "lr_schedule_sq = tf.keras.optimizers.schedules.ExponentialDecay(\n",
    "    initial_learning_rate=initial_learning_rate,\n",
    "    decay_steps=decay_steps,\n",
    "    decay_rate=0.75,  \n",
    "    staircase=True  \n",
    ")\n",
    "\n",
    "sq.compile(\n",
    "    optimizer = tfa.optimizers.AdamW(\n",
    "    learning_rate=lr_schedule_sq,\n",
    "    weight_decay=0.0001\n",
    "),\n",
    "    loss=tf.keras.losses.SparseCategoricalCrossentropy(from_logits=True),\n",
    "    metrics=['accuracy']\n",
    ")\n",
    "\n",
    "log_dir = f\"./logs/sq_cifar10/{time.strftime('%Y%m%d-%H%M%S')}\"\n",
    "callbacks_sq = [\n",
    "    tf.keras.callbacks.ModelCheckpoint(\n",
    "        './checkpoints/sq_cifar10_best',  \n",
    "        save_best_only=True,\n",
    "        monitor='val_accuracy'\n",
    "    ),\n",
    "    tf.keras.callbacks.EarlyStopping(\n",
    "        monitor='val_accuracy',\n",
    "        patience=5,\n",
    "        restore_best_weights=True\n",
    "    ),\n",
    "    # tf.keras.callbacks.TensorBoard(log_dir='./logs/wide_res_cifar10')\n",
    "    tf.keras.callbacks.TensorBoard(log_dir=log_dir)\n",
    "]\n",
    "\n",
    "\n",
    "history_sq = sq.fit(\n",
    "    train_ds,\n",
    "    validation_data=test_ds,\n",
    "    epochs=20,\n",
    "    callbacks=callbacks_sq\n",
    ")"
   ]
  },
  {
   "cell_type": "code",
   "execution_count": 42,
   "metadata": {},
   "outputs": [],
   "source": [
    "def train_AdamW_ExpDecay(config = None, checkpoint = None, activate_fun = True, epochs=20, patience = 5, initial_lr = 1e-3, decay_steps = 1000, \n",
    "        decay_rate = 0.9, weight_decay = 0.0001, train_ds = train_ds, val_ds = test_ds, model_name = 'model', data_name = 'cifar10'):\n",
    "    import time\n",
    "\n",
    "    if config:\n",
    "        model = config\n",
    "    elif checkpoint:\n",
    "        model = tf.keras.models.load_model(checkpoint)\n",
    "    else:\n",
    "        raise ValueError(\"Either 'config' or 'checkpoint' must be provided.\")\n",
    "\n",
    "\n",
    "    lr_schedule = tf.keras.optimizers.schedules.ExponentialDecay(\n",
    "        initial_learning_rate=initial_lr,\n",
    "        decay_steps=decay_steps,\n",
    "        decay_rate=decay_rate,  \n",
    "        staircase=True   \n",
    "    )\n",
    "\n",
    "    model.compile(\n",
    "        optimizer = tfa.optimizers.AdamW(\n",
    "        learning_rate=lr_schedule,\n",
    "        weight_decay=weight_decay\n",
    "    ),\n",
    "        loss=tf.keras.losses.SparseCategoricalCrossentropy(from_logits=activate_fun),\n",
    "        metrics=['accuracy']\n",
    "    )\n",
    "\n",
    "    log_dir = \"./logs/\" + model_name + \"_\" + data_name + f\"/{time.strftime('%Y%m%d-%H%M%S')}\"\n",
    "    checkpoint_dir = \"./checkpoints/\" + model_name + \"_\" + data_name + \"_best\"\n",
    "    # log_dir = f\"./logs/sq_cifar10/{time.strftime('%Y%m%d-%H%M%S')}\"\n",
    "\n",
    "    callbacks = [\n",
    "        tf.keras.callbacks.ModelCheckpoint(\n",
    "            #'./checkpoints/sq_cifar10_best',  \n",
    "            checkpoint_dir,\n",
    "            save_best_only=True,\n",
    "            monitor='val_accuracy'\n",
    "        ),\n",
    "        tf.keras.callbacks.EarlyStopping(\n",
    "            monitor='val_accuracy',\n",
    "            patience=patience,\n",
    "            restore_best_weights=True\n",
    "        ),\n",
    "        # tf.keras.callbacks.TensorBoard(log_dir='./logs/wide_res_cifar10')\n",
    "        tf.keras.callbacks.TensorBoard(log_dir=log_dir)\n",
    "    ]\n",
    "\n",
    "    history = model.fit(\n",
    "        train_ds,\n",
    "        validation_data=val_ds,\n",
    "        epochs=epochs,\n",
    "        callbacks=callbacks\n",
    "    )\n",
    "\n",
    "    return history"
   ]
  },
  {
   "cell_type": "code",
   "execution_count": 36,
   "metadata": {},
   "outputs": [
    {
     "name": "stdout",
     "output_type": "stream",
     "text": [
      "Epoch 1/10\n",
      "391/391 [==============================] - ETA: 0s - loss: 0.0897 - accuracy: 0.9752"
     ]
    },
    {
     "name": "stderr",
     "output_type": "stream",
     "text": [
      "WARNING:absl:Found untraced functions such as dense_3_layer_call_fn, dense_3_layer_call_and_return_conditional_losses, _jit_compiled_convolution_op, depthwise_conv2d_6_layer_call_fn, depthwise_conv2d_6_layer_call_and_return_conditional_losses while saving (showing 5 of 39). These functions will not be directly callable after loading.\n"
     ]
    },
    {
     "name": "stdout",
     "output_type": "stream",
     "text": [
      "INFO:tensorflow:Assets written to: ./checkpoints\\mobile_cifar10_best\\assets\n"
     ]
    },
    {
     "name": "stderr",
     "output_type": "stream",
     "text": [
      "INFO:tensorflow:Assets written to: ./checkpoints\\mobile_cifar10_best\\assets\n"
     ]
    },
    {
     "name": "stdout",
     "output_type": "stream",
     "text": [
      "391/391 [==============================] - 99s 249ms/step - loss: 0.0897 - accuracy: 0.9752 - val_loss: 0.6257 - val_accuracy: 0.8138\n",
      "Epoch 2/10\n",
      "391/391 [==============================] - ETA: 0s - loss: 0.0711 - accuracy: 0.9827"
     ]
    },
    {
     "name": "stderr",
     "output_type": "stream",
     "text": [
      "WARNING:absl:Found untraced functions such as dense_3_layer_call_fn, dense_3_layer_call_and_return_conditional_losses, _jit_compiled_convolution_op, depthwise_conv2d_6_layer_call_fn, depthwise_conv2d_6_layer_call_and_return_conditional_losses while saving (showing 5 of 39). These functions will not be directly callable after loading.\n"
     ]
    },
    {
     "name": "stdout",
     "output_type": "stream",
     "text": [
      "INFO:tensorflow:Assets written to: ./checkpoints\\mobile_cifar10_best\\assets\n"
     ]
    },
    {
     "name": "stderr",
     "output_type": "stream",
     "text": [
      "INFO:tensorflow:Assets written to: ./checkpoints\\mobile_cifar10_best\\assets\n"
     ]
    },
    {
     "name": "stdout",
     "output_type": "stream",
     "text": [
      "391/391 [==============================] - 101s 259ms/step - loss: 0.0711 - accuracy: 0.9827 - val_loss: 0.6224 - val_accuracy: 0.8194\n",
      "Epoch 3/10\n",
      "391/391 [==============================] - 95s 243ms/step - loss: 0.0650 - accuracy: 0.9843 - val_loss: 0.6337 - val_accuracy: 0.8184\n",
      "Epoch 4/10\n",
      "391/391 [==============================] - 96s 246ms/step - loss: 0.0579 - accuracy: 0.9880 - val_loss: 0.6259 - val_accuracy: 0.8190\n",
      "Epoch 5/10\n",
      "391/391 [==============================] - 96s 245ms/step - loss: 0.0550 - accuracy: 0.9890 - val_loss: 0.6287 - val_accuracy: 0.8181\n",
      "Epoch 6/10\n",
      "391/391 [==============================] - ETA: 0s - loss: 0.0515 - accuracy: 0.9909"
     ]
    },
    {
     "name": "stderr",
     "output_type": "stream",
     "text": [
      "WARNING:absl:Found untraced functions such as dense_3_layer_call_fn, dense_3_layer_call_and_return_conditional_losses, _jit_compiled_convolution_op, depthwise_conv2d_6_layer_call_fn, depthwise_conv2d_6_layer_call_and_return_conditional_losses while saving (showing 5 of 39). These functions will not be directly callable after loading.\n"
     ]
    },
    {
     "name": "stdout",
     "output_type": "stream",
     "text": [
      "INFO:tensorflow:Assets written to: ./checkpoints\\mobile_cifar10_best\\assets\n"
     ]
    },
    {
     "name": "stderr",
     "output_type": "stream",
     "text": [
      "INFO:tensorflow:Assets written to: ./checkpoints\\mobile_cifar10_best\\assets\n"
     ]
    },
    {
     "name": "stdout",
     "output_type": "stream",
     "text": [
      "391/391 [==============================] - 98s 249ms/step - loss: 0.0515 - accuracy: 0.9909 - val_loss: 0.6250 - val_accuracy: 0.8199\n",
      "Epoch 7/10\n",
      "391/391 [==============================] - 96s 245ms/step - loss: 0.0503 - accuracy: 0.9921 - val_loss: 0.6274 - val_accuracy: 0.8186\n",
      "Epoch 8/10\n",
      "391/391 [==============================] - 97s 247ms/step - loss: 0.0494 - accuracy: 0.9932 - val_loss: 0.6160 - val_accuracy: 0.8188\n",
      "Epoch 9/10\n",
      "391/391 [==============================] - 96s 245ms/step - loss: 0.0502 - accuracy: 0.9935 - val_loss: 0.6115 - val_accuracy: 0.8197\n",
      "Epoch 10/10\n",
      "391/391 [==============================] - 95s 243ms/step - loss: 0.0509 - accuracy: 0.9941 - val_loss: 0.6042 - val_accuracy: 0.8196\n"
     ]
    },
    {
     "data": {
      "text/plain": [
       "<keras.callbacks.History at 0x26025b275b0>"
      ]
     },
     "execution_count": 36,
     "metadata": {},
     "output_type": "execute_result"
    }
   ],
   "source": [
    "train_AdamW_ExpDecay(checkpoint = './checkpoints/mobile_cifar10_best', activate_fun = True, epochs=10, patience = 5, initial_lr = 5e-4, decay_steps = 500, \n",
    "        decay_rate = 0.8, weight_decay = 0.0001, train_ds = train_ds, val_ds = test_ds, model_name = 'mobile', data_name = 'cifar10')"
   ]
  },
  {
   "cell_type": "code",
   "execution_count": 37,
   "metadata": {},
   "outputs": [],
   "source": [
    "from models.efficientnet import EfficientNetB0"
   ]
  },
  {
   "cell_type": "code",
   "execution_count": 53,
   "metadata": {},
   "outputs": [
    {
     "name": "stdout",
     "output_type": "stream",
     "text": [
      "Epoch 1/10\n",
      "391/391 [==============================] - ETA: 0s - loss: 1.1693 - accuracy: 0.5770"
     ]
    },
    {
     "name": "stderr",
     "output_type": "stream",
     "text": [
      "WARNING:absl:Found untraced functions such as _jit_compiled_convolution_op, _jit_compiled_convolution_op, _jit_compiled_convolution_op, _jit_compiled_convolution_op, _jit_compiled_convolution_op while saving (showing 5 of 81). These functions will not be directly callable after loading.\n"
     ]
    },
    {
     "name": "stdout",
     "output_type": "stream",
     "text": [
      "INFO:tensorflow:Assets written to: ./checkpoints\\eff_cifar10_best\\assets\n"
     ]
    },
    {
     "name": "stderr",
     "output_type": "stream",
     "text": [
      "INFO:tensorflow:Assets written to: ./checkpoints\\eff_cifar10_best\\assets\n"
     ]
    },
    {
     "name": "stdout",
     "output_type": "stream",
     "text": [
      "391/391 [==============================] - 572s 1s/step - loss: 1.1693 - accuracy: 0.5770 - val_loss: 1.3288 - val_accuracy: 0.5356\n",
      "Epoch 2/10\n",
      "391/391 [==============================] - ETA: 0s - loss: 1.1646 - accuracy: 0.5783"
     ]
    },
    {
     "name": "stderr",
     "output_type": "stream",
     "text": [
      "WARNING:absl:Found untraced functions such as _jit_compiled_convolution_op, _jit_compiled_convolution_op, _jit_compiled_convolution_op, _jit_compiled_convolution_op, _jit_compiled_convolution_op while saving (showing 5 of 81). These functions will not be directly callable after loading.\n"
     ]
    },
    {
     "name": "stdout",
     "output_type": "stream",
     "text": [
      "INFO:tensorflow:Assets written to: ./checkpoints\\eff_cifar10_best\\assets\n"
     ]
    },
    {
     "name": "stderr",
     "output_type": "stream",
     "text": [
      "INFO:tensorflow:Assets written to: ./checkpoints\\eff_cifar10_best\\assets\n"
     ]
    },
    {
     "name": "stdout",
     "output_type": "stream",
     "text": [
      "391/391 [==============================] - 926s 2s/step - loss: 1.1646 - accuracy: 0.5783 - val_loss: 1.3116 - val_accuracy: 0.5416\n",
      "Epoch 3/10\n",
      "391/391 [==============================] - 585s 1s/step - loss: 1.1633 - accuracy: 0.5800 - val_loss: 1.3331 - val_accuracy: 0.5325\n",
      "Epoch 4/10\n",
      "391/391 [==============================] - 610s 2s/step - loss: 1.1607 - accuracy: 0.5814 - val_loss: 1.3305 - val_accuracy: 0.5341\n",
      "Epoch 5/10\n",
      "391/391 [==============================] - 608s 2s/step - loss: 1.1591 - accuracy: 0.5831 - val_loss: 1.3412 - val_accuracy: 0.5339\n",
      "Epoch 6/10\n",
      "391/391 [==============================] - 601s 2s/step - loss: 1.1604 - accuracy: 0.5803 - val_loss: 1.3637 - val_accuracy: 0.5245\n",
      "Epoch 7/10\n",
      "391/391 [==============================] - 593s 2s/step - loss: 1.1634 - accuracy: 0.5794 - val_loss: 1.3527 - val_accuracy: 0.5246\n"
     ]
    },
    {
     "data": {
      "text/plain": [
       "<keras.callbacks.History at 0x26126b280d0>"
      ]
     },
     "execution_count": 53,
     "metadata": {},
     "output_type": "execute_result"
    }
   ],
   "source": [
    "train_AdamW_ExpDecay(checkpoint= './checkpoints/eff_cifar10_best', activate_fun = False, epochs=10, patience = 5, initial_lr = 1e-4, decay_steps = 1000, \n",
    "        decay_rate = 0.75, weight_decay = 0.0001, train_ds = train_ds, val_ds = test_ds, model_name = 'eff', data_name = 'cifar10')"
   ]
  }
 ],
 "metadata": {
  "kernelspec": {
   "display_name": "comp0197-tf",
   "language": "python",
   "name": "python3"
  },
  "language_info": {
   "codemirror_mode": {
    "name": "ipython",
    "version": 3
   },
   "file_extension": ".py",
   "mimetype": "text/x-python",
   "name": "python",
   "nbconvert_exporter": "python",
   "pygments_lexer": "ipython3",
   "version": "3.9.21"
  }
 },
 "nbformat": 4,
 "nbformat_minor": 2
}
