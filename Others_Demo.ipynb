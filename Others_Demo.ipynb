{
 "cells": [
  {
   "cell_type": "code",
   "execution_count": 1,
   "metadata": {},
   "outputs": [],
   "source": [
    "# import tensorflow as tf\n",
    "import tensorflow as tf\n",
    "import tensorflow_datasets as tfds\n",
    "from tensorflow import keras"
   ]
  },
  {
   "cell_type": "code",
   "execution_count": 2,
   "metadata": {},
   "outputs": [
    {
     "name": "stdout",
     "output_type": "stream",
     "text": [
      "True\n"
     ]
    }
   ],
   "source": [
    "print(tf.test.is_built_with_cuda())"
   ]
  },
  {
   "cell_type": "code",
   "execution_count": 4,
   "metadata": {},
   "outputs": [],
   "source": [
    "def prepare_tf_data(Train_size = 32, Test_size = 16, img_size = 224, random_ratio = 0.1):\n",
    "    (train_ds, test_ds), ds_info = tfds.load(\n",
    "        'cifar10',\n",
    "        split=['train', 'test'],\n",
    "        as_supervised=True,\n",
    "        with_info=True\n",
    "    )\n",
    "    \n",
    "    def preprocess(image, label):\n",
    "        image = tf.cast(image, tf.float32) / 255.0\n",
    "        image = tf.image.resize(image, (img_size, img_size))\n",
    "        return image, label\n",
    "\n",
    "    def augment(image, label):\n",
    "        image = tf.image.random_flip_left_right(image)\n",
    "        image = tf.image.random_brightness(image, random_ratio)\n",
    "        image = tf.image.random_contrast(image, 1 - random_ratio, 1 + random_ratio)\n",
    "        return image, label\n",
    "    \n",
    "    AUTOTUNE = tf.data.AUTOTUNE\n",
    "    \n",
    "    train_ds = (train_ds\n",
    "                .map(preprocess, num_parallel_calls=AUTOTUNE)\n",
    "                .map(augment, num_parallel_calls=AUTOTUNE)\n",
    "                .shuffle(10000)\n",
    "                .batch(Train_size)\n",
    "                .prefetch(AUTOTUNE))\n",
    "    \n",
    "    test_ds = (test_ds\n",
    "               .map(preprocess, num_parallel_calls=AUTOTUNE)\n",
    "               .batch(Test_size)\n",
    "               .prefetch(AUTOTUNE))\n",
    "    \n",
    "    return train_ds, test_ds"
   ]
  },
  {
   "cell_type": "code",
   "execution_count": 5,
   "metadata": {},
   "outputs": [],
   "source": [
    "train_ds, test_ds = prepare_tf_data(Train_size = 64, Test_size = 32,img_size=32)"
   ]
  },
  {
   "cell_type": "code",
   "execution_count": 7,
   "metadata": {},
   "outputs": [],
   "source": [
    "from models.resnet_cifar import ResNetCIFAR\n",
    "import tensorflow_addons as tfa"
   ]
  },
  {
   "cell_type": "code",
   "execution_count": 10,
   "metadata": {},
   "outputs": [
    {
     "name": "stdout",
     "output_type": "stream",
     "text": [
      "Epoch 1/20\n",
      "782/782 [==============================] - ETA: 0s - loss: 1.7537 - accuracy: 0.3645"
     ]
    },
    {
     "name": "stderr",
     "output_type": "stream",
     "text": [
      "WARNING:absl:Found untraced functions such as _jit_compiled_convolution_op, conv2d_43_layer_call_fn, conv2d_43_layer_call_and_return_conditional_losses, _jit_compiled_convolution_op, conv2d_44_layer_call_fn while saving (showing 5 of 57). These functions will not be directly callable after loading.\n"
     ]
    },
    {
     "name": "stdout",
     "output_type": "stream",
     "text": [
      "INFO:tensorflow:Assets written to: res_ci_cifar10_best\\assets\n"
     ]
    },
    {
     "name": "stderr",
     "output_type": "stream",
     "text": [
      "INFO:tensorflow:Assets written to: res_ci_cifar10_best\\assets\n"
     ]
    },
    {
     "name": "stdout",
     "output_type": "stream",
     "text": [
      "782/782 [==============================] - 901s 1s/step - loss: 1.7537 - accuracy: 0.3645 - val_loss: 1.7445 - val_accuracy: 0.3914\n",
      "Epoch 2/20\n",
      "782/782 [==============================] - ETA: 0s - loss: 1.1153 - accuracy: 0.5987"
     ]
    },
    {
     "name": "stderr",
     "output_type": "stream",
     "text": [
      "WARNING:absl:Found untraced functions such as _jit_compiled_convolution_op, conv2d_43_layer_call_fn, conv2d_43_layer_call_and_return_conditional_losses, _jit_compiled_convolution_op, conv2d_44_layer_call_fn while saving (showing 5 of 57). These functions will not be directly callable after loading.\n"
     ]
    },
    {
     "name": "stdout",
     "output_type": "stream",
     "text": [
      "INFO:tensorflow:Assets written to: res_ci_cifar10_best\\assets\n"
     ]
    },
    {
     "name": "stderr",
     "output_type": "stream",
     "text": [
      "INFO:tensorflow:Assets written to: res_ci_cifar10_best\\assets\n"
     ]
    },
    {
     "name": "stdout",
     "output_type": "stream",
     "text": [
      "782/782 [==============================] - 1310s 2s/step - loss: 1.1153 - accuracy: 0.5987 - val_loss: 1.1818 - val_accuracy: 0.5788\n",
      "Epoch 3/20\n",
      "782/782 [==============================] - ETA: 0s - loss: 0.7833 - accuracy: 0.7251"
     ]
    },
    {
     "name": "stderr",
     "output_type": "stream",
     "text": [
      "WARNING:absl:Found untraced functions such as _jit_compiled_convolution_op, conv2d_43_layer_call_fn, conv2d_43_layer_call_and_return_conditional_losses, _jit_compiled_convolution_op, conv2d_44_layer_call_fn while saving (showing 5 of 57). These functions will not be directly callable after loading.\n"
     ]
    },
    {
     "name": "stdout",
     "output_type": "stream",
     "text": [
      "INFO:tensorflow:Assets written to: res_ci_cifar10_best\\assets\n"
     ]
    },
    {
     "name": "stderr",
     "output_type": "stream",
     "text": [
      "INFO:tensorflow:Assets written to: res_ci_cifar10_best\\assets\n"
     ]
    },
    {
     "name": "stdout",
     "output_type": "stream",
     "text": [
      "782/782 [==============================] - 1461s 2s/step - loss: 0.7833 - accuracy: 0.7251 - val_loss: 1.0458 - val_accuracy: 0.6580\n",
      "Epoch 4/20\n",
      "782/782 [==============================] - ETA: 0s - loss: 0.6116 - accuracy: 0.7881"
     ]
    },
    {
     "name": "stderr",
     "output_type": "stream",
     "text": [
      "WARNING:absl:Found untraced functions such as _jit_compiled_convolution_op, conv2d_43_layer_call_fn, conv2d_43_layer_call_and_return_conditional_losses, _jit_compiled_convolution_op, conv2d_44_layer_call_fn while saving (showing 5 of 57). These functions will not be directly callable after loading.\n"
     ]
    },
    {
     "name": "stdout",
     "output_type": "stream",
     "text": [
      "INFO:tensorflow:Assets written to: res_ci_cifar10_best\\assets\n"
     ]
    },
    {
     "name": "stderr",
     "output_type": "stream",
     "text": [
      "INFO:tensorflow:Assets written to: res_ci_cifar10_best\\assets\n"
     ]
    },
    {
     "name": "stdout",
     "output_type": "stream",
     "text": [
      "782/782 [==============================] - 1034s 1s/step - loss: 0.6116 - accuracy: 0.7881 - val_loss: 0.8448 - val_accuracy: 0.7064\n",
      "Epoch 5/20\n",
      "782/782 [==============================] - 1710s 2s/step - loss: 0.5170 - accuracy: 0.8217 - val_loss: 0.8888 - val_accuracy: 0.6957\n",
      "Epoch 6/20\n",
      "782/782 [==============================] - ETA: 0s - loss: 0.4469 - accuracy: 0.8456"
     ]
    },
    {
     "name": "stderr",
     "output_type": "stream",
     "text": [
      "WARNING:absl:Found untraced functions such as _jit_compiled_convolution_op, conv2d_43_layer_call_fn, conv2d_43_layer_call_and_return_conditional_losses, _jit_compiled_convolution_op, conv2d_44_layer_call_fn while saving (showing 5 of 57). These functions will not be directly callable after loading.\n"
     ]
    },
    {
     "name": "stdout",
     "output_type": "stream",
     "text": [
      "INFO:tensorflow:Assets written to: res_ci_cifar10_best\\assets\n"
     ]
    },
    {
     "name": "stderr",
     "output_type": "stream",
     "text": [
      "INFO:tensorflow:Assets written to: res_ci_cifar10_best\\assets\n"
     ]
    },
    {
     "name": "stdout",
     "output_type": "stream",
     "text": [
      "782/782 [==============================] - 1430s 2s/step - loss: 0.4469 - accuracy: 0.8456 - val_loss: 0.8835 - val_accuracy: 0.7328\n",
      "Epoch 7/20\n",
      "782/782 [==============================] - ETA: 0s - loss: 0.3725 - accuracy: 0.8718"
     ]
    },
    {
     "name": "stderr",
     "output_type": "stream",
     "text": [
      "WARNING:absl:Found untraced functions such as _jit_compiled_convolution_op, conv2d_43_layer_call_fn, conv2d_43_layer_call_and_return_conditional_losses, _jit_compiled_convolution_op, conv2d_44_layer_call_fn while saving (showing 5 of 57). These functions will not be directly callable after loading.\n"
     ]
    },
    {
     "name": "stdout",
     "output_type": "stream",
     "text": [
      "INFO:tensorflow:Assets written to: res_ci_cifar10_best\\assets\n"
     ]
    },
    {
     "name": "stderr",
     "output_type": "stream",
     "text": [
      "INFO:tensorflow:Assets written to: res_ci_cifar10_best\\assets\n"
     ]
    },
    {
     "name": "stdout",
     "output_type": "stream",
     "text": [
      "782/782 [==============================] - 1411s 2s/step - loss: 0.3725 - accuracy: 0.8718 - val_loss: 0.5624 - val_accuracy: 0.8149\n",
      "Epoch 8/20\n",
      "782/782 [==============================] - 1688s 2s/step - loss: 0.3193 - accuracy: 0.8896 - val_loss: 0.5829 - val_accuracy: 0.8087\n",
      "Epoch 9/20\n",
      "782/782 [==============================] - ETA: 0s - loss: 0.2881 - accuracy: 0.9012"
     ]
    },
    {
     "name": "stderr",
     "output_type": "stream",
     "text": [
      "WARNING:absl:Found untraced functions such as _jit_compiled_convolution_op, conv2d_43_layer_call_fn, conv2d_43_layer_call_and_return_conditional_losses, _jit_compiled_convolution_op, conv2d_44_layer_call_fn while saving (showing 5 of 57). These functions will not be directly callable after loading.\n"
     ]
    },
    {
     "name": "stdout",
     "output_type": "stream",
     "text": [
      "INFO:tensorflow:Assets written to: res_ci_cifar10_best\\assets\n"
     ]
    },
    {
     "name": "stderr",
     "output_type": "stream",
     "text": [
      "INFO:tensorflow:Assets written to: res_ci_cifar10_best\\assets\n"
     ]
    },
    {
     "name": "stdout",
     "output_type": "stream",
     "text": [
      "782/782 [==============================] - 1913s 2s/step - loss: 0.2881 - accuracy: 0.9012 - val_loss: 0.4801 - val_accuracy: 0.8413\n",
      "Epoch 10/20\n",
      "782/782 [==============================] - 1856s 2s/step - loss: 0.2607 - accuracy: 0.9101 - val_loss: 0.8663 - val_accuracy: 0.7425\n",
      "Epoch 11/20\n",
      "782/782 [==============================] - 1901s 2s/step - loss: 0.2395 - accuracy: 0.9167 - val_loss: 0.7996 - val_accuracy: 0.7736\n",
      "Epoch 12/20\n",
      "782/782 [==============================] - ETA: 0s - loss: 0.2203 - accuracy: 0.9227"
     ]
    },
    {
     "name": "stderr",
     "output_type": "stream",
     "text": [
      "WARNING:absl:Found untraced functions such as _jit_compiled_convolution_op, conv2d_43_layer_call_fn, conv2d_43_layer_call_and_return_conditional_losses, _jit_compiled_convolution_op, conv2d_44_layer_call_fn while saving (showing 5 of 57). These functions will not be directly callable after loading.\n"
     ]
    },
    {
     "name": "stdout",
     "output_type": "stream",
     "text": [
      "INFO:tensorflow:Assets written to: res_ci_cifar10_best\\assets\n"
     ]
    },
    {
     "name": "stderr",
     "output_type": "stream",
     "text": [
      "INFO:tensorflow:Assets written to: res_ci_cifar10_best\\assets\n"
     ]
    },
    {
     "name": "stdout",
     "output_type": "stream",
     "text": [
      "782/782 [==============================] - 2149s 3s/step - loss: 0.2203 - accuracy: 0.9227 - val_loss: 0.4788 - val_accuracy: 0.8470\n",
      "Epoch 13/20\n",
      "782/782 [==============================] - ETA: 0s - loss: 0.1982 - accuracy: 0.9316"
     ]
    },
    {
     "name": "stderr",
     "output_type": "stream",
     "text": [
      "WARNING:absl:Found untraced functions such as _jit_compiled_convolution_op, conv2d_43_layer_call_fn, conv2d_43_layer_call_and_return_conditional_losses, _jit_compiled_convolution_op, conv2d_44_layer_call_fn while saving (showing 5 of 57). These functions will not be directly callable after loading.\n"
     ]
    },
    {
     "name": "stdout",
     "output_type": "stream",
     "text": [
      "INFO:tensorflow:Assets written to: res_ci_cifar10_best\\assets\n"
     ]
    },
    {
     "name": "stderr",
     "output_type": "stream",
     "text": [
      "INFO:tensorflow:Assets written to: res_ci_cifar10_best\\assets\n"
     ]
    },
    {
     "name": "stdout",
     "output_type": "stream",
     "text": [
      "782/782 [==============================] - 2152s 3s/step - loss: 0.1982 - accuracy: 0.9316 - val_loss: 0.4435 - val_accuracy: 0.8576\n",
      "Epoch 14/20\n",
      "782/782 [==============================] - 2165s 3s/step - loss: 0.1450 - accuracy: 0.9501 - val_loss: 0.5579 - val_accuracy: 0.8418\n",
      "Epoch 15/20\n",
      "782/782 [==============================] - 10253s 13s/step - loss: 0.1463 - accuracy: 0.9478 - val_loss: 0.5436 - val_accuracy: 0.8350\n",
      "Epoch 16/20\n",
      "782/782 [==============================] - 2210s 3s/step - loss: 0.1365 - accuracy: 0.9521 - val_loss: 0.5678 - val_accuracy: 0.8366\n",
      "Epoch 17/20\n",
      "782/782 [==============================] - 2299s 3s/step - loss: 0.1359 - accuracy: 0.9521 - val_loss: 0.6394 - val_accuracy: 0.8145\n",
      "Epoch 18/20\n",
      "782/782 [==============================] - ETA: 0s - loss: 0.1294 - accuracy: 0.9556"
     ]
    },
    {
     "name": "stderr",
     "output_type": "stream",
     "text": [
      "WARNING:absl:Found untraced functions such as _jit_compiled_convolution_op, conv2d_43_layer_call_fn, conv2d_43_layer_call_and_return_conditional_losses, _jit_compiled_convolution_op, conv2d_44_layer_call_fn while saving (showing 5 of 57). These functions will not be directly callable after loading.\n"
     ]
    },
    {
     "name": "stdout",
     "output_type": "stream",
     "text": [
      "INFO:tensorflow:Assets written to: res_ci_cifar10_best\\assets\n"
     ]
    },
    {
     "name": "stderr",
     "output_type": "stream",
     "text": [
      "INFO:tensorflow:Assets written to: res_ci_cifar10_best\\assets\n"
     ]
    },
    {
     "name": "stdout",
     "output_type": "stream",
     "text": [
      "782/782 [==============================] - 2313s 3s/step - loss: 0.1294 - accuracy: 0.9556 - val_loss: 0.4315 - val_accuracy: 0.8650\n",
      "Epoch 19/20\n",
      "782/782 [==============================] - 2351s 3s/step - loss: 0.1316 - accuracy: 0.9535 - val_loss: 0.4911 - val_accuracy: 0.8568\n",
      "Epoch 20/20\n",
      "782/782 [==============================] - ETA: 0s - loss: 0.0983 - accuracy: 0.9661"
     ]
    },
    {
     "name": "stderr",
     "output_type": "stream",
     "text": [
      "WARNING:absl:Found untraced functions such as _jit_compiled_convolution_op, conv2d_43_layer_call_fn, conv2d_43_layer_call_and_return_conditional_losses, _jit_compiled_convolution_op, conv2d_44_layer_call_fn while saving (showing 5 of 57). These functions will not be directly callable after loading.\n"
     ]
    },
    {
     "name": "stdout",
     "output_type": "stream",
     "text": [
      "INFO:tensorflow:Assets written to: res_ci_cifar10_best\\assets\n"
     ]
    },
    {
     "name": "stderr",
     "output_type": "stream",
     "text": [
      "INFO:tensorflow:Assets written to: res_ci_cifar10_best\\assets\n"
     ]
    },
    {
     "name": "stdout",
     "output_type": "stream",
     "text": [
      "782/782 [==============================] - 2480s 3s/step - loss: 0.0983 - accuracy: 0.9661 - val_loss: 0.4821 - val_accuracy: 0.8671\n"
     ]
    }
   ],
   "source": [
    "res_ci = ResNetCIFAR(num_classes=10)\n",
    "# den = tf.keras.models.load_model('./den_cifar10_best')\n",
    "\n",
    "initial_learning_rate = 1e-2\n",
    "decay_steps = 5000\n",
    "# lr_schedule = tf.keras.optimizers.schedules.CosineDecay(\n",
    "#     initial_learning_rate, decay_steps\n",
    "# )\n",
    "\n",
    "lr_schedule_res_ci = tf.keras.optimizers.schedules.ExponentialDecay(\n",
    "    initial_learning_rate=initial_learning_rate,\n",
    "    decay_steps=decay_steps,\n",
    "    decay_rate=0.75, \n",
    "    staircase=True   \n",
    ")\n",
    "\n",
    "res_ci.compile(\n",
    "    optimizer = tfa.optimizers.AdamW(\n",
    "    learning_rate=lr_schedule_res_ci,\n",
    "    weight_decay=0.0001\n",
    "),\n",
    "    loss=tf.keras.losses.SparseCategoricalCrossentropy(from_logits=True),\n",
    "    metrics=['accuracy']\n",
    ")\n",
    "\n",
    "callbacks_res_ci = [\n",
    "    tf.keras.callbacks.ModelCheckpoint(\n",
    "        'res_ci_cifar10_best',  \n",
    "        save_best_only=True,\n",
    "        monitor='val_accuracy'\n",
    "    ),\n",
    "    tf.keras.callbacks.EarlyStopping(\n",
    "        monitor='val_accuracy',\n",
    "        patience=5,\n",
    "        restore_best_weights=True\n",
    "    ),\n",
    "    tf.keras.callbacks.TensorBoard(log_dir='./logs/res_ci_cifar10')\n",
    "]\n",
    "\n",
    "# tensorboard_callback = tf.keras.callbacks.TensorBoard(log_dir=\"./logs\")\n",
    "# model.fit(..., callbacks=[tensorboard_callback])\n",
    "\n",
    "history_res_ci = res_ci.fit(\n",
    "    train_ds,\n",
    "    validation_data=test_ds,\n",
    "    epochs=20,\n",
    "    callbacks=callbacks_res_ci\n",
    ")"
   ]
  },
  {
   "cell_type": "code",
   "execution_count": 11,
   "metadata": {},
   "outputs": [
    {
     "name": "stdout",
     "output_type": "stream",
     "text": [
      "313/313 [==============================] - 69s 220ms/step - loss: 0.4821 - accuracy: 0.8671\n",
      "Test accuracy: 0.8671\n"
     ]
    }
   ],
   "source": [
    "test_loss, test_accuracy = res_ci.evaluate(test_ds)\n",
    "print(f\"Test accuracy: {test_accuracy:.4f}\")"
   ]
  }
 ],
 "metadata": {
  "kernelspec": {
   "display_name": "comp0197-tf",
   "language": "python",
   "name": "python3"
  },
  "language_info": {
   "codemirror_mode": {
    "name": "ipython",
    "version": 3
   },
   "file_extension": ".py",
   "mimetype": "text/x-python",
   "name": "python",
   "nbconvert_exporter": "python",
   "pygments_lexer": "ipython3",
   "version": "3.9.21"
  }
 },
 "nbformat": 4,
 "nbformat_minor": 2
}
