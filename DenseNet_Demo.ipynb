{
 "cells": [
  {
   "cell_type": "code",
   "execution_count": 1,
   "metadata": {},
   "outputs": [],
   "source": [
    "# import tensorflow as tf\n",
    "import tensorflow as tf\n",
    "import tensorflow_datasets as tfds\n",
    "from tensorflow import keras"
   ]
  },
  {
   "cell_type": "code",
   "execution_count": 4,
   "metadata": {},
   "outputs": [],
   "source": [
    "def prepare_tf_data(Train_size = 32, Test_size = 16, img_size = 224, random_ratio = 0.1):\n",
    "    (train_ds, test_ds), ds_info = tfds.load(\n",
    "        'cifar10',\n",
    "        split=['train', 'test'],\n",
    "        as_supervised=True,\n",
    "        with_info=True\n",
    "    )\n",
    "    \n",
    "    def preprocess(image, label):\n",
    "        image = tf.cast(image, tf.float32) / 255.0\n",
    "        image = tf.image.resize(image, (img_size, img_size))\n",
    "        return image, label\n",
    "\n",
    "    def augment(image, label):\n",
    "        image = tf.image.random_flip_left_right(image)\n",
    "        image = tf.image.random_brightness(image, random_ratio)\n",
    "        image = tf.image.random_contrast(image, 1 - random_ratio, 1 + random_ratio)\n",
    "        return image, label\n",
    "    \n",
    "    AUTOTUNE = tf.data.AUTOTUNE\n",
    "    \n",
    "    train_ds = (train_ds\n",
    "                .map(preprocess, num_parallel_calls=AUTOTUNE)\n",
    "                .map(augment, num_parallel_calls=AUTOTUNE)\n",
    "                .shuffle(10000)\n",
    "                .batch(Train_size)\n",
    "                .prefetch(AUTOTUNE))\n",
    "    \n",
    "    test_ds = (test_ds\n",
    "               .map(preprocess, num_parallel_calls=AUTOTUNE)\n",
    "               .batch(Test_size)\n",
    "               .prefetch(AUTOTUNE))\n",
    "    \n",
    "    return train_ds, test_ds"
   ]
  },
  {
   "cell_type": "code",
   "execution_count": 5,
   "metadata": {},
   "outputs": [],
   "source": [
    "train_ds, test_ds = prepare_tf_data(img_size=32)"
   ]
  },
  {
   "cell_type": "code",
   "execution_count": 13,
   "metadata": {},
   "outputs": [],
   "source": [
    "from models.densenet import DenseNet\n",
    "import tensorflow_addons as tfa"
   ]
  },
  {
   "cell_type": "code",
   "execution_count": 14,
   "metadata": {},
   "outputs": [
    {
     "name": "stdout",
     "output_type": "stream",
     "text": [
      "Epoch 1/10\n",
      "1563/1563 [==============================] - ETA: 0s - loss: 0.8932 - accuracy: 0.6880"
     ]
    },
    {
     "name": "stderr",
     "output_type": "stream",
     "text": [
      "WARNING:absl:Found untraced functions such as conv2d_364_layer_call_fn, conv2d_364_layer_call_and_return_conditional_losses, _jit_compiled_convolution_op, dense_110_layer_call_fn, dense_110_layer_call_and_return_conditional_losses while saving (showing 5 of 124). These functions will not be directly callable after loading.\n"
     ]
    },
    {
     "name": "stdout",
     "output_type": "stream",
     "text": [
      "INFO:tensorflow:Assets written to: den_cifar10_best\\assets\n"
     ]
    },
    {
     "name": "stderr",
     "output_type": "stream",
     "text": [
      "INFO:tensorflow:Assets written to: den_cifar10_best\\assets\n"
     ]
    },
    {
     "name": "stdout",
     "output_type": "stream",
     "text": [
      "1563/1563 [==============================] - 539s 340ms/step - loss: 0.8932 - accuracy: 0.6880 - val_loss: 0.9833 - val_accuracy: 0.6577\n",
      "Epoch 2/10\n",
      "1563/1563 [==============================] - 626s 400ms/step - loss: 0.8361 - accuracy: 0.7119 - val_loss: 1.0234 - val_accuracy: 0.6406\n",
      "Epoch 3/10\n",
      "1563/1563 [==============================] - 692s 443ms/step - loss: 0.7904 - accuracy: 0.7259 - val_loss: 1.1398 - val_accuracy: 0.5962\n",
      "Epoch 4/10\n",
      "1563/1563 [==============================] - ETA: 0s - loss: 0.7396 - accuracy: 0.7449"
     ]
    },
    {
     "name": "stderr",
     "output_type": "stream",
     "text": [
      "WARNING:absl:Found untraced functions such as conv2d_364_layer_call_fn, conv2d_364_layer_call_and_return_conditional_losses, _jit_compiled_convolution_op, dense_110_layer_call_fn, dense_110_layer_call_and_return_conditional_losses while saving (showing 5 of 124). These functions will not be directly callable after loading.\n"
     ]
    },
    {
     "name": "stdout",
     "output_type": "stream",
     "text": [
      "INFO:tensorflow:Assets written to: den_cifar10_best\\assets\n"
     ]
    },
    {
     "name": "stderr",
     "output_type": "stream",
     "text": [
      "INFO:tensorflow:Assets written to: den_cifar10_best\\assets\n"
     ]
    },
    {
     "name": "stdout",
     "output_type": "stream",
     "text": [
      "1563/1563 [==============================] - 676s 433ms/step - loss: 0.7396 - accuracy: 0.7449 - val_loss: 0.9226 - val_accuracy: 0.6830\n",
      "Epoch 5/10\n",
      "1563/1563 [==============================] - 1089s 696ms/step - loss: 0.7022 - accuracy: 0.7615 - val_loss: 1.0726 - val_accuracy: 0.6336\n",
      "Epoch 6/10\n",
      "1563/1563 [==============================] - 1064s 681ms/step - loss: 0.6919 - accuracy: 0.7662 - val_loss: 0.9979 - val_accuracy: 0.6599\n",
      "Epoch 7/10\n",
      "1563/1563 [==============================] - 1072s 686ms/step - loss: 0.6893 - accuracy: 0.7694 - val_loss: 1.0263 - val_accuracy: 0.6420\n",
      "Epoch 8/10\n",
      "1563/1563 [==============================] - 1167s 747ms/step - loss: 0.6996 - accuracy: 0.7666 - val_loss: 0.9804 - val_accuracy: 0.6659\n",
      "Epoch 9/10\n",
      "1563/1563 [==============================] - 1097s 702ms/step - loss: 0.7219 - accuracy: 0.7574 - val_loss: 1.0228 - val_accuracy: 0.6411\n"
     ]
    }
   ],
   "source": [
    "# den = DenseNet(num_classes=10)\n",
    "den = tf.keras.models.load_model('./den_cifar10_best')\n",
    "\n",
    "initial_learning_rate = 5e-5\n",
    "decay_steps = 5000\n",
    "# lr_schedule = tf.keras.optimizers.schedules.CosineDecay(\n",
    "#     initial_learning_rate, decay_steps\n",
    "# )\n",
    "\n",
    "lr_schedule_den = tf.keras.optimizers.schedules.ExponentialDecay(\n",
    "    initial_learning_rate=initial_learning_rate,\n",
    "    decay_steps=decay_steps,\n",
    "    decay_rate=0.9,  \n",
    "    staircase=True   \n",
    ")\n",
    "\n",
    "den.compile(\n",
    "    optimizer = tfa.optimizers.AdamW(\n",
    "    learning_rate=lr_schedule_den,\n",
    "    weight_decay=0.0001\n",
    "),\n",
    "    loss=tf.keras.losses.SparseCategoricalCrossentropy(from_logits=True),\n",
    "    metrics=['accuracy']\n",
    ")\n",
    "\n",
    "callbacks_den = [\n",
    "    tf.keras.callbacks.ModelCheckpoint(\n",
    "        'den_cifar10_best',  \n",
    "        save_best_only=True,\n",
    "        monitor='val_accuracy'\n",
    "    ),\n",
    "    tf.keras.callbacks.EarlyStopping(\n",
    "        monitor='val_accuracy',\n",
    "        patience=5,\n",
    "        restore_best_weights=True\n",
    "    ),\n",
    "    tf.keras.callbacks.TensorBoard(log_dir='./logs/den_cifar10')\n",
    "]\n",
    "\n",
    "history_den = den.fit(\n",
    "    train_ds,\n",
    "    validation_data=test_ds,\n",
    "    epochs=10,\n",
    "    callbacks=callbacks_den\n",
    ")"
   ]
  }
 ],
 "metadata": {
  "kernelspec": {
   "display_name": "comp0197-tf",
   "language": "python",
   "name": "python3"
  },
  "language_info": {
   "codemirror_mode": {
    "name": "ipython",
    "version": 3
   },
   "file_extension": ".py",
   "mimetype": "text/x-python",
   "name": "python",
   "nbconvert_exporter": "python",
   "pygments_lexer": "ipython3",
   "version": "3.9.21"
  }
 },
 "nbformat": 4,
 "nbformat_minor": 2
}
